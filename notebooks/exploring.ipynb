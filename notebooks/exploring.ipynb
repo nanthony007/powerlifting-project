{
 "cells": [
  {
   "cell_type": "code",
   "execution_count": 1,
   "metadata": {},
   "outputs": [],
   "source": [
    "import pandas as pd\n",
    "from pathlib import Path\n",
    "import csv\n",
    "from powerlifting import models\n",
    "from rich import pretty, print\n",
    "\n",
    "pretty.install()"
   ]
  },
  {
   "cell_type": "markdown",
   "metadata": {},
   "source": [
    "# HI THERE COWBOY"
   ]
  },
  {
   "cell_type": "code",
   "execution_count": 2,
   "metadata": {},
   "outputs": [
    {
     "data": {
      "text/html": [
       "<pre style=\"white-space:pre;overflow-x:auto;line-height:normal;font-family:Menlo,'DejaVu Sans Mono',consolas,'Courier New',monospace\"><span style=\"font-weight: bold\">[</span>\n",
       "    <span style=\"color: #008000; text-decoration-color: #008000\">'../data/1069/meet.csv'</span>,\n",
       "    <span style=\"color: #008000; text-decoration-color: #008000\">'../data/1069/entries.csv'</span>,\n",
       "    <span style=\"color: #008000; text-decoration-color: #008000\">'../data/0987/meet.csv'</span>,\n",
       "    <span style=\"color: #008000; text-decoration-color: #008000\">'../data/0987/entries.csv'</span>\n",
       "<span style=\"font-weight: bold\">]</span>\n",
       "</pre>\n"
      ],
      "text/plain": [
       "\u001b[1m[\u001b[0m\n",
       "    \u001b[32m'../data/1069/meet.csv'\u001b[0m,\n",
       "    \u001b[32m'../data/1069/entries.csv'\u001b[0m,\n",
       "    \u001b[32m'../data/0987/meet.csv'\u001b[0m,\n",
       "    \u001b[32m'../data/0987/entries.csv'\u001b[0m\n",
       "\u001b[1m]\u001b[0m\n"
      ]
     },
     "metadata": {},
     "output_type": "display_data"
    }
   ],
   "source": [
    "# practicing scanning through directories to access target files\n",
    "target_files = {\"meet.csv\", \"entries.csv\"}\n",
    "folders = [x for x in Path('../data').iterdir() if x.is_dir()][:2]\n",
    "\n",
    "file_paths = []\n",
    "for folder in folders:\n",
    "    for datafile in folder.iterdir():\n",
    "        if datafile.name in target_files:\n",
    "            file_paths.append(datafile.as_posix())\n",
    "\n",
    "print(file_paths)"
   ]
  },
  {
   "cell_type": "code",
   "execution_count": 3,
   "metadata": {},
   "outputs": [
    {
     "data": {
      "text/html": [
       "<pre style=\"white-space:pre;overflow-x:auto;line-height:normal;font-family:Menlo,'DejaVu Sans Mono',consolas,'Courier New',monospace\"><span style=\"font-weight: bold\">[</span><span style=\"color: #008000; text-decoration-color: #008000\">'..'</span>, <span style=\"color: #008000; text-decoration-color: #008000\">'data'</span>, <span style=\"color: #008000; text-decoration-color: #008000\">'1069'</span>, <span style=\"color: #008000; text-decoration-color: #008000\">'meet.csv'</span><span style=\"font-weight: bold\">]</span>\n",
       "</pre>\n"
      ],
      "text/plain": [
       "\u001b[1m[\u001b[0m\u001b[32m'..'\u001b[0m, \u001b[32m'data'\u001b[0m, \u001b[32m'1069'\u001b[0m, \u001b[32m'meet.csv'\u001b[0m\u001b[1m]\u001b[0m\n"
      ]
     },
     "metadata": {},
     "output_type": "display_data"
    },
    {
     "data": {
      "text/html": [
       "<pre style=\"white-space:pre;overflow-x:auto;line-height:normal;font-family:Menlo,'DejaVu Sans Mono',consolas,'Courier New',monospace\"><span style=\"font-weight: bold\">[</span><span style=\"color: #008000; text-decoration-color: #008000\">'..'</span>, <span style=\"color: #008000; text-decoration-color: #008000\">'data'</span>, <span style=\"color: #008000; text-decoration-color: #008000\">'1069'</span>, <span style=\"color: #008000; text-decoration-color: #008000\">'entries.csv'</span><span style=\"font-weight: bold\">]</span>\n",
       "</pre>\n"
      ],
      "text/plain": [
       "\u001b[1m[\u001b[0m\u001b[32m'..'\u001b[0m, \u001b[32m'data'\u001b[0m, \u001b[32m'1069'\u001b[0m, \u001b[32m'entries.csv'\u001b[0m\u001b[1m]\u001b[0m\n"
      ]
     },
     "metadata": {},
     "output_type": "display_data"
    },
    {
     "data": {
      "text/html": [
       "<pre style=\"white-space:pre;overflow-x:auto;line-height:normal;font-family:Menlo,'DejaVu Sans Mono',consolas,'Courier New',monospace\"><span style=\"font-weight: bold\">[</span><span style=\"color: #008000; text-decoration-color: #008000\">'..'</span>, <span style=\"color: #008000; text-decoration-color: #008000\">'data'</span>, <span style=\"color: #008000; text-decoration-color: #008000\">'0987'</span>, <span style=\"color: #008000; text-decoration-color: #008000\">'meet.csv'</span><span style=\"font-weight: bold\">]</span>\n",
       "</pre>\n"
      ],
      "text/plain": [
       "\u001b[1m[\u001b[0m\u001b[32m'..'\u001b[0m, \u001b[32m'data'\u001b[0m, \u001b[32m'0987'\u001b[0m, \u001b[32m'meet.csv'\u001b[0m\u001b[1m]\u001b[0m\n"
      ]
     },
     "metadata": {},
     "output_type": "display_data"
    },
    {
     "data": {
      "text/html": [
       "<pre style=\"white-space:pre;overflow-x:auto;line-height:normal;font-family:Menlo,'DejaVu Sans Mono',consolas,'Courier New',monospace\"><span style=\"font-weight: bold\">[</span><span style=\"color: #008000; text-decoration-color: #008000\">'..'</span>, <span style=\"color: #008000; text-decoration-color: #008000\">'data'</span>, <span style=\"color: #008000; text-decoration-color: #008000\">'0987'</span>, <span style=\"color: #008000; text-decoration-color: #008000\">'entries.csv'</span><span style=\"font-weight: bold\">]</span>\n",
       "</pre>\n"
      ],
      "text/plain": [
       "\u001b[1m[\u001b[0m\u001b[32m'..'\u001b[0m, \u001b[32m'data'\u001b[0m, \u001b[32m'0987'\u001b[0m, \u001b[32m'entries.csv'\u001b[0m\u001b[1m]\u001b[0m\n"
      ]
     },
     "metadata": {},
     "output_type": "display_data"
    }
   ],
   "source": [
    "# getting parts of file paths, not sure if needed...\n",
    "for fp in file_paths:\n",
    "    parts = fp.split('/')\n",
    "    print(parts)"
   ]
  },
  {
   "cell_type": "code",
   "execution_count": 4,
   "metadata": {},
   "outputs": [
    {
     "data": {
      "text/html": [
       "<pre style=\"white-space:pre;overflow-x:auto;line-height:normal;font-family:Menlo,'DejaVu Sans Mono',consolas,'Courier New',monospace\">\n",
       "<span style=\"font-weight: bold\">{</span>\n",
       "    <span style=\"color: #008000; text-decoration-color: #008000\">'Federation'</span>: <span style=\"color: #008000; text-decoration-color: #008000\">'USPA'</span>,\n",
       "    <span style=\"color: #008000; text-decoration-color: #008000\">'Date'</span>: <span style=\"color: #008000; text-decoration-color: #008000\">'2022-02-20'</span>,\n",
       "    <span style=\"color: #008000; text-decoration-color: #008000\">'MeetCountry'</span>: <span style=\"color: #008000; text-decoration-color: #008000\">'USA'</span>,\n",
       "    <span style=\"color: #008000; text-decoration-color: #008000\">'MeetState'</span>: <span style=\"color: #008000; text-decoration-color: #008000\">'FL'</span>,\n",
       "    <span style=\"color: #008000; text-decoration-color: #008000\">'MeetTown'</span>: <span style=\"color: #008000; text-decoration-color: #008000\">'Seminole'</span>,\n",
       "    <span style=\"color: #008000; text-decoration-color: #008000\">'MeetName'</span>: <span style=\"color: #008000; text-decoration-color: #008000\">'Battle of the Bay VIII'</span>\n",
       "<span style=\"font-weight: bold\">}</span>\n",
       "</pre>\n"
      ],
      "text/plain": [
       "\n",
       "\u001b[1m{\u001b[0m\n",
       "    \u001b[32m'Federation'\u001b[0m: \u001b[32m'USPA'\u001b[0m,\n",
       "    \u001b[32m'Date'\u001b[0m: \u001b[32m'2022-02-20'\u001b[0m,\n",
       "    \u001b[32m'MeetCountry'\u001b[0m: \u001b[32m'USA'\u001b[0m,\n",
       "    \u001b[32m'MeetState'\u001b[0m: \u001b[32m'FL'\u001b[0m,\n",
       "    \u001b[32m'MeetTown'\u001b[0m: \u001b[32m'Seminole'\u001b[0m,\n",
       "    \u001b[32m'MeetName'\u001b[0m: \u001b[32m'Battle of the Bay VIII'\u001b[0m\n",
       "\u001b[1m}\u001b[0m\n"
      ]
     },
     "metadata": {},
     "output_type": "display_data"
    }
   ],
   "source": [
    "practice_meet = \"../data/2412/meet.csv\"\n",
    "practice_entries = \"../data/2412/entries.csv\"\n",
    "\n",
    "meet = pd.read_csv(practice_meet)\n",
    "# entries = pd.read_csv(practice_entries)\n",
    "meet = meet.to_dict(orient='records')[0]\n",
    "meet"
   ]
  },
  {
   "cell_type": "code",
   "execution_count": 5,
   "metadata": {},
   "outputs": [
    {
     "data": {
      "text/html": [
       "<pre style=\"white-space:pre;overflow-x:auto;line-height:normal;font-family:Menlo,'DejaVu Sans Mono',consolas,'Courier New',monospace\">\n",
       "<span style=\"color: #800080; text-decoration-color: #800080; font-weight: bold\">Meet</span><span style=\"font-weight: bold\">(</span>\n",
       "    <span style=\"color: #808000; text-decoration-color: #808000\">federation</span>=<span style=\"color: #008000; text-decoration-color: #008000\">'USPA'</span>,\n",
       "    <span style=\"color: #808000; text-decoration-color: #808000\">date_</span>=<span style=\"color: #800080; text-decoration-color: #800080; font-weight: bold\">datetime</span><span style=\"color: #800080; text-decoration-color: #800080; font-weight: bold\">.datetime</span><span style=\"font-weight: bold\">(</span><span style=\"color: #008080; text-decoration-color: #008080; font-weight: bold\">2022</span>, <span style=\"color: #008080; text-decoration-color: #008080; font-weight: bold\">2</span>, <span style=\"color: #008080; text-decoration-color: #008080; font-weight: bold\">20</span>, <span style=\"color: #008080; text-decoration-color: #008080; font-weight: bold\">0</span>, <span style=\"color: #008080; text-decoration-color: #008080; font-weight: bold\">0</span><span style=\"font-weight: bold\">)</span>,\n",
       "    <span style=\"color: #808000; text-decoration-color: #808000\">country</span>=<span style=\"color: #008000; text-decoration-color: #008000\">'USA'</span>,\n",
       "    <span style=\"color: #808000; text-decoration-color: #808000\">state</span>=<span style=\"color: #008000; text-decoration-color: #008000\">'FL'</span>,\n",
       "    <span style=\"color: #808000; text-decoration-color: #808000\">town</span>=<span style=\"color: #008000; text-decoration-color: #008000\">'Seminole'</span>,\n",
       "    <span style=\"color: #808000; text-decoration-color: #808000\">name</span>=<span style=\"color: #008000; text-decoration-color: #008000\">'Battle of the Bay VIII'</span>\n",
       "<span style=\"font-weight: bold\">)</span>\n",
       "</pre>\n"
      ],
      "text/plain": [
       "\n",
       "\u001b[1;35mMeet\u001b[0m\u001b[1m(\u001b[0m\n",
       "    \u001b[33mfederation\u001b[0m=\u001b[32m'USPA'\u001b[0m,\n",
       "    \u001b[33mdate_\u001b[0m=\u001b[1;35mdatetime\u001b[0m\u001b[1;35m.datetime\u001b[0m\u001b[1m(\u001b[0m\u001b[1;36m2022\u001b[0m, \u001b[1;36m2\u001b[0m, \u001b[1;36m20\u001b[0m, \u001b[1;36m0\u001b[0m, \u001b[1;36m0\u001b[0m\u001b[1m)\u001b[0m,\n",
       "    \u001b[33mcountry\u001b[0m=\u001b[32m'USA'\u001b[0m,\n",
       "    \u001b[33mstate\u001b[0m=\u001b[32m'FL'\u001b[0m,\n",
       "    \u001b[33mtown\u001b[0m=\u001b[32m'Seminole'\u001b[0m,\n",
       "    \u001b[33mname\u001b[0m=\u001b[32m'Battle of the Bay VIII'\u001b[0m\n",
       "\u001b[1m)\u001b[0m\n"
      ]
     },
     "metadata": {},
     "output_type": "display_data"
    }
   ],
   "source": [
    "meet_info = models.Meet.New(meet)\n",
    "meet_info"
   ]
  },
  {
   "cell_type": "code",
   "execution_count": 8,
   "metadata": {},
   "outputs": [
    {
     "data": {
      "text/html": [
       "<pre style=\"white-space:pre;overflow-x:auto;line-height:normal;font-family:Menlo,'DejaVu Sans Mono',consolas,'Courier New',monospace\"><span style=\"color: #ff0000; text-decoration-color: #ff0000; font-style: italic\">False</span>\n",
       "</pre>\n"
      ],
      "text/plain": [
       "\u001b[3;91mFalse\u001b[0m\n"
      ]
     },
     "metadata": {},
     "output_type": "display_data"
    }
   ],
   "source": [
    "meet_info.is_in_year(2022)"
   ]
  },
  {
   "cell_type": "code",
   "execution_count": null,
   "metadata": {},
   "outputs": [],
   "source": [
    "# practicing scanning through directories to access target files\n",
    "target_files = \"meet.csv\"\n",
    "folders = [x for x in Path('../data').iterdir() if x.is_dir()]\n",
    "\n",
    "file_paths = []\n",
    "for folder in folders:\n",
    "    for datafile in folder.iterdir():\n",
    "        if datafile.name == target_files:\n",
    "            file_paths.append(datafile.as_posix())\n",
    "\n",
    "print(file_paths)"
   ]
  },
  {
   "cell_type": "code",
   "execution_count": 13,
   "metadata": {},
   "outputs": [
    {
     "data": {
      "text/html": [
       "<pre style=\"white-space:pre;overflow-x:auto;line-height:normal;font-family:Menlo,'DejaVu Sans Mono',consolas,'Courier New',monospace\">\n",
       "<span style=\"font-weight: bold\">[</span>\n",
       "    <span style=\"color: #800080; text-decoration-color: #800080; font-weight: bold\">Meet</span><span style=\"font-weight: bold\">(</span>\n",
       "        <span style=\"color: #808000; text-decoration-color: #808000\">federation</span>=<span style=\"color: #008000; text-decoration-color: #008000\">'USPA'</span>,\n",
       "        <span style=\"color: #808000; text-decoration-color: #808000\">date_</span>=<span style=\"color: #800080; text-decoration-color: #800080; font-weight: bold\">datetime</span><span style=\"color: #800080; text-decoration-color: #800080; font-weight: bold\">.datetime</span><span style=\"font-weight: bold\">(</span><span style=\"color: #008080; text-decoration-color: #008080; font-weight: bold\">2018</span>, <span style=\"color: #008080; text-decoration-color: #008080; font-weight: bold\">3</span>, <span style=\"color: #008080; text-decoration-color: #008080; font-weight: bold\">10</span>, <span style=\"color: #008080; text-decoration-color: #008080; font-weight: bold\">0</span>, <span style=\"color: #008080; text-decoration-color: #008080; font-weight: bold\">0</span><span style=\"font-weight: bold\">)</span>,\n",
       "        <span style=\"color: #808000; text-decoration-color: #808000\">country</span>=<span style=\"color: #008000; text-decoration-color: #008000\">'USA'</span>,\n",
       "        <span style=\"color: #808000; text-decoration-color: #808000\">state</span>=<span style=\"color: #008000; text-decoration-color: #008000\">'IL'</span>,\n",
       "        <span style=\"color: #808000; text-decoration-color: #808000\">town</span>=<span style=\"color: #008000; text-decoration-color: #008000\">'Chicago'</span>,\n",
       "        <span style=\"color: #808000; text-decoration-color: #808000\">name</span>=<span style=\"color: #008000; text-decoration-color: #008000\">'Throwdown at the Compound'</span>\n",
       "    <span style=\"font-weight: bold\">)</span>,\n",
       "    <span style=\"color: #800080; text-decoration-color: #800080; font-weight: bold\">Meet</span><span style=\"font-weight: bold\">(</span>\n",
       "        <span style=\"color: #808000; text-decoration-color: #808000\">federation</span>=<span style=\"color: #008000; text-decoration-color: #008000\">'USPA'</span>,\n",
       "        <span style=\"color: #808000; text-decoration-color: #808000\">date_</span>=<span style=\"color: #800080; text-decoration-color: #800080; font-weight: bold\">datetime</span><span style=\"color: #800080; text-decoration-color: #800080; font-weight: bold\">.datetime</span><span style=\"font-weight: bold\">(</span><span style=\"color: #008080; text-decoration-color: #008080; font-weight: bold\">2017</span>, <span style=\"color: #008080; text-decoration-color: #008080; font-weight: bold\">11</span>, <span style=\"color: #008080; text-decoration-color: #008080; font-weight: bold\">18</span>, <span style=\"color: #008080; text-decoration-color: #008080; font-weight: bold\">0</span>, <span style=\"color: #008080; text-decoration-color: #008080; font-weight: bold\">0</span><span style=\"font-weight: bold\">)</span>,\n",
       "        <span style=\"color: #808000; text-decoration-color: #808000\">country</span>=<span style=\"color: #008000; text-decoration-color: #008000\">'USA'</span>,\n",
       "        <span style=\"color: #808000; text-decoration-color: #808000\">state</span>=<span style=\"color: #008000; text-decoration-color: #008000\">'CA'</span>,\n",
       "        <span style=\"color: #808000; text-decoration-color: #808000\">town</span>=<span style=\"color: #008000; text-decoration-color: #008000\">'Cotati'</span>,\n",
       "        <span style=\"color: #808000; text-decoration-color: #808000\">name</span>=<span style=\"color: #008000; text-decoration-color: #008000\">'Sonoma County Open'</span>\n",
       "    <span style=\"font-weight: bold\">)</span>\n",
       "<span style=\"font-weight: bold\">]</span>\n",
       "</pre>\n"
      ],
      "text/plain": [
       "\n",
       "\u001b[1m[\u001b[0m\n",
       "    \u001b[1;35mMeet\u001b[0m\u001b[1m(\u001b[0m\n",
       "        \u001b[33mfederation\u001b[0m=\u001b[32m'USPA'\u001b[0m,\n",
       "        \u001b[33mdate_\u001b[0m=\u001b[1;35mdatetime\u001b[0m\u001b[1;35m.datetime\u001b[0m\u001b[1m(\u001b[0m\u001b[1;36m2018\u001b[0m, \u001b[1;36m3\u001b[0m, \u001b[1;36m10\u001b[0m, \u001b[1;36m0\u001b[0m, \u001b[1;36m0\u001b[0m\u001b[1m)\u001b[0m,\n",
       "        \u001b[33mcountry\u001b[0m=\u001b[32m'USA'\u001b[0m,\n",
       "        \u001b[33mstate\u001b[0m=\u001b[32m'IL'\u001b[0m,\n",
       "        \u001b[33mtown\u001b[0m=\u001b[32m'Chicago'\u001b[0m,\n",
       "        \u001b[33mname\u001b[0m=\u001b[32m'Throwdown at the Compound'\u001b[0m\n",
       "    \u001b[1m)\u001b[0m,\n",
       "    \u001b[1;35mMeet\u001b[0m\u001b[1m(\u001b[0m\n",
       "        \u001b[33mfederation\u001b[0m=\u001b[32m'USPA'\u001b[0m,\n",
       "        \u001b[33mdate_\u001b[0m=\u001b[1;35mdatetime\u001b[0m\u001b[1;35m.datetime\u001b[0m\u001b[1m(\u001b[0m\u001b[1;36m2017\u001b[0m, \u001b[1;36m11\u001b[0m, \u001b[1;36m18\u001b[0m, \u001b[1;36m0\u001b[0m, \u001b[1;36m0\u001b[0m\u001b[1m)\u001b[0m,\n",
       "        \u001b[33mcountry\u001b[0m=\u001b[32m'USA'\u001b[0m,\n",
       "        \u001b[33mstate\u001b[0m=\u001b[32m'CA'\u001b[0m,\n",
       "        \u001b[33mtown\u001b[0m=\u001b[32m'Cotati'\u001b[0m,\n",
       "        \u001b[33mname\u001b[0m=\u001b[32m'Sonoma County Open'\u001b[0m\n",
       "    \u001b[1m)\u001b[0m\n",
       "\u001b[1m]\u001b[0m\n"
      ]
     },
     "metadata": {},
     "output_type": "display_data"
    }
   ],
   "source": [
    "meets = []\n",
    "for fpath in file_paths:\n",
    "    with open(fpath, mode=\"r\") as f:\n",
    "        reader = csv.DictReader(f)\n",
    "        for event in reader:\n",
    "            meet = models.Meet.New(event)\n",
    "            meets.append(meet)\n",
    "\n",
    "meets[:2]"
   ]
  },
  {
   "cell_type": "code",
   "execution_count": 14,
   "metadata": {},
   "outputs": [
    {
     "data": {
      "text/html": [
       "<pre style=\"white-space:pre;overflow-x:auto;line-height:normal;font-family:Menlo,'DejaVu Sans Mono',consolas,'Courier New',monospace\"><span style=\"color: #008080; text-decoration-color: #008080; font-weight: bold\">2343</span>\n",
       "</pre>\n"
      ],
      "text/plain": [
       "\u001b[1;36m2343\u001b[0m\n"
      ]
     },
     "metadata": {},
     "output_type": "display_data"
    }
   ],
   "source": [
    "len(meets)"
   ]
  },
  {
   "cell_type": "code",
   "execution_count": null,
   "metadata": {},
   "outputs": [],
   "source": []
  }
 ],
 "metadata": {
  "interpreter": {
   "hash": "ee2965926d8b045c7609b23665c7bb468ca757801cb136baf1fe79c4c385ef47"
  },
  "kernelspec": {
   "display_name": "Python 3.10.2 ('.venv': poetry)",
   "language": "python",
   "name": "python3"
  },
  "language_info": {
   "codemirror_mode": {
    "name": "ipython",
    "version": 3
   },
   "file_extension": ".py",
   "mimetype": "text/x-python",
   "name": "python",
   "nbconvert_exporter": "python",
   "pygments_lexer": "ipython3",
   "version": "3.10.2"
  },
  "orig_nbformat": 4
 },
 "nbformat": 4,
 "nbformat_minor": 2
}
