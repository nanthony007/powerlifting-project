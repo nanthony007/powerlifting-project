{
 "cells": [
  {
   "cell_type": "code",
   "execution_count": 1,
   "metadata": {},
   "outputs": [],
   "source": [
    "import pandas as pd\n",
    "import numpy as np\n",
    "from pathlib import Path\n",
    "import csv\n",
    "from powerlifting import models\n",
    "from pydantic import ValidationError\n",
    "from rich import pretty, print\n",
    "import json\n",
    "\n",
    "pretty.install()"
   ]
  },
  {
   "cell_type": "markdown",
   "metadata": {},
   "source": [
    "# HI THERE COWBOY"
   ]
  },
  {
   "cell_type": "code",
   "execution_count": 2,
   "metadata": {},
   "outputs": [
    {
     "data": {
      "text/html": [
       "<pre style=\"white-space:pre;overflow-x:auto;line-height:normal;font-family:Menlo,'DejaVu Sans Mono',consolas,'Courier New',monospace\"><span style=\"font-weight: bold\">[</span>\n",
       "    <span style=\"color: #008000; text-decoration-color: #008000\">'../data/1069/meet.csv'</span>,\n",
       "    <span style=\"color: #008000; text-decoration-color: #008000\">'../data/1069/entries.csv'</span>,\n",
       "    <span style=\"color: #008000; text-decoration-color: #008000\">'../data/0987/meet.csv'</span>,\n",
       "    <span style=\"color: #008000; text-decoration-color: #008000\">'../data/0987/entries.csv'</span>\n",
       "<span style=\"font-weight: bold\">]</span>\n",
       "</pre>\n"
      ],
      "text/plain": [
       "\u001b[1m[\u001b[0m\n",
       "    \u001b[32m'../data/1069/meet.csv'\u001b[0m,\n",
       "    \u001b[32m'../data/1069/entries.csv'\u001b[0m,\n",
       "    \u001b[32m'../data/0987/meet.csv'\u001b[0m,\n",
       "    \u001b[32m'../data/0987/entries.csv'\u001b[0m\n",
       "\u001b[1m]\u001b[0m\n"
      ]
     },
     "metadata": {},
     "output_type": "display_data"
    }
   ],
   "source": [
    "# practicing scanning through directories to access target files\n",
    "target_files = {\"meet.csv\", \"entries.csv\"}\n",
    "folders = [x for x in Path('../data').iterdir() if x.is_dir()][:2]\n",
    "\n",
    "file_paths = []\n",
    "for folder in folders:\n",
    "    for datafile in folder.iterdir():\n",
    "        if datafile.name in target_files:\n",
    "            file_paths.append(datafile.as_posix())\n",
    "\n",
    "print(file_paths)"
   ]
  },
  {
   "cell_type": "code",
   "execution_count": 3,
   "metadata": {},
   "outputs": [
    {
     "data": {
      "text/html": [
       "<pre style=\"white-space:pre;overflow-x:auto;line-height:normal;font-family:Menlo,'DejaVu Sans Mono',consolas,'Courier New',monospace\">Folders without entries: <span style=\"color: #008080; text-decoration-color: #008080; font-weight: bold\">9</span>\n",
       "</pre>\n"
      ],
      "text/plain": [
       "Folders without entries: \u001b[1;36m9\u001b[0m\n"
      ]
     },
     "metadata": {},
     "output_type": "display_data"
    }
   ],
   "source": [
    "folders = [x for x in Path('../data').iterdir() if x.is_dir()]\n",
    "columns = set()\n",
    "not_found = 0\n",
    "for folder in folders:\n",
    "    fpath = folder.joinpath(\"entries.csv\")\n",
    "    try:\n",
    "        with open(fpath, \"r\") as f:\n",
    "            reader = csv.reader(f)\n",
    "            for first_line in reader:\n",
    "                for field in first_line:\n",
    "                    columns.add(field)\n",
    "                break\n",
    "    except FileNotFoundError as e:\n",
    "        not_found += 1\n",
    "        continue\n",
    "\n",
    "print(f\"Folders without entries: {not_found}\")"
   ]
  },
  {
   "cell_type": "code",
   "execution_count": 4,
   "metadata": {},
   "outputs": [
    {
     "data": {
      "text/html": [
       "<pre style=\"white-space:pre;overflow-x:auto;line-height:normal;font-family:Menlo,'DejaVu Sans Mono',consolas,'Courier New',monospace\"><span style=\"color: #008080; text-decoration-color: #008080; font-weight: bold\">35</span>\n",
       "</pre>\n"
      ],
      "text/plain": [
       "\u001b[1;36m35\u001b[0m\n"
      ]
     },
     "metadata": {},
     "output_type": "display_data"
    }
   ],
   "source": [
    "len(columns)"
   ]
  },
  {
   "cell_type": "code",
   "execution_count": 5,
   "metadata": {},
   "outputs": [
    {
     "data": {
      "text/html": [
       "<pre style=\"white-space:pre;overflow-x:auto;line-height:normal;font-family:Menlo,'DejaVu Sans Mono',consolas,'Courier New',monospace\">\n",
       "<span style=\"font-weight: bold\">[</span>\n",
       "    <span style=\"color: #008000; text-decoration-color: #008000\">'Age'</span>,\n",
       "    <span style=\"color: #008000; text-decoration-color: #008000\">'Bench1Kg'</span>,\n",
       "    <span style=\"color: #008000; text-decoration-color: #008000\">'Bench2Kg'</span>,\n",
       "    <span style=\"color: #008000; text-decoration-color: #008000\">'Bench3Kg'</span>,\n",
       "    <span style=\"color: #008000; text-decoration-color: #008000\">'Bench4Kg'</span>,\n",
       "    <span style=\"color: #008000; text-decoration-color: #008000\">'Best3BenchKg'</span>,\n",
       "    <span style=\"color: #008000; text-decoration-color: #008000\">'Best3DeadliftKg'</span>,\n",
       "    <span style=\"color: #008000; text-decoration-color: #008000\">'Best3SquatKg'</span>,\n",
       "    <span style=\"color: #008000; text-decoration-color: #008000\">'BirthDate'</span>,\n",
       "    <span style=\"color: #008000; text-decoration-color: #008000\">'BirthYear'</span>,\n",
       "    <span style=\"color: #008000; text-decoration-color: #008000\">'BodyweightKg'</span>,\n",
       "    <span style=\"color: #008000; text-decoration-color: #008000\">'College/University'</span>,\n",
       "    <span style=\"color: #008000; text-decoration-color: #008000\">'Country'</span>,\n",
       "    <span style=\"color: #008000; text-decoration-color: #008000\">'CyrillicName'</span>,\n",
       "    <span style=\"color: #008000; text-decoration-color: #008000\">'Deadlift1Kg'</span>,\n",
       "    <span style=\"color: #008000; text-decoration-color: #008000\">'Deadlift2Kg'</span>,\n",
       "    <span style=\"color: #008000; text-decoration-color: #008000\">'Deadlift3Kg'</span>,\n",
       "    <span style=\"color: #008000; text-decoration-color: #008000\">'Deadlift4Kg'</span>,\n",
       "    <span style=\"color: #008000; text-decoration-color: #008000\">'DeadliftEquipment'</span>,\n",
       "    <span style=\"color: #008000; text-decoration-color: #008000\">'Division'</span>,\n",
       "    <span style=\"color: #008000; text-decoration-color: #008000\">'Equipment'</span>,\n",
       "    <span style=\"color: #008000; text-decoration-color: #008000\">'Event'</span>,\n",
       "    <span style=\"color: #008000; text-decoration-color: #008000\">'Name'</span>,\n",
       "    <span style=\"color: #008000; text-decoration-color: #008000\">'Place'</span>,\n",
       "    <span style=\"color: #008000; text-decoration-color: #008000\">'School'</span>,\n",
       "    <span style=\"color: #008000; text-decoration-color: #008000\">'Sex'</span>,\n",
       "    <span style=\"color: #008000; text-decoration-color: #008000\">'Squat1Kg'</span>,\n",
       "    <span style=\"color: #008000; text-decoration-color: #008000\">'Squat2Kg'</span>,\n",
       "    <span style=\"color: #008000; text-decoration-color: #008000\">'Squat3Kg'</span>,\n",
       "    <span style=\"color: #008000; text-decoration-color: #008000\">'Squat4Kg'</span>,\n",
       "    <span style=\"color: #008000; text-decoration-color: #008000\">'State'</span>,\n",
       "    <span style=\"color: #008000; text-decoration-color: #008000\">'Team'</span>,\n",
       "    <span style=\"color: #008000; text-decoration-color: #008000\">'Tested'</span>,\n",
       "    <span style=\"color: #008000; text-decoration-color: #008000\">'TotalKg'</span>,\n",
       "    <span style=\"color: #008000; text-decoration-color: #008000\">'WeightClassKg'</span>\n",
       "<span style=\"font-weight: bold\">]</span>\n",
       "</pre>\n"
      ],
      "text/plain": [
       "\n",
       "\u001b[1m[\u001b[0m\n",
       "    \u001b[32m'Age'\u001b[0m,\n",
       "    \u001b[32m'Bench1Kg'\u001b[0m,\n",
       "    \u001b[32m'Bench2Kg'\u001b[0m,\n",
       "    \u001b[32m'Bench3Kg'\u001b[0m,\n",
       "    \u001b[32m'Bench4Kg'\u001b[0m,\n",
       "    \u001b[32m'Best3BenchKg'\u001b[0m,\n",
       "    \u001b[32m'Best3DeadliftKg'\u001b[0m,\n",
       "    \u001b[32m'Best3SquatKg'\u001b[0m,\n",
       "    \u001b[32m'BirthDate'\u001b[0m,\n",
       "    \u001b[32m'BirthYear'\u001b[0m,\n",
       "    \u001b[32m'BodyweightKg'\u001b[0m,\n",
       "    \u001b[32m'College/University'\u001b[0m,\n",
       "    \u001b[32m'Country'\u001b[0m,\n",
       "    \u001b[32m'CyrillicName'\u001b[0m,\n",
       "    \u001b[32m'Deadlift1Kg'\u001b[0m,\n",
       "    \u001b[32m'Deadlift2Kg'\u001b[0m,\n",
       "    \u001b[32m'Deadlift3Kg'\u001b[0m,\n",
       "    \u001b[32m'Deadlift4Kg'\u001b[0m,\n",
       "    \u001b[32m'DeadliftEquipment'\u001b[0m,\n",
       "    \u001b[32m'Division'\u001b[0m,\n",
       "    \u001b[32m'Equipment'\u001b[0m,\n",
       "    \u001b[32m'Event'\u001b[0m,\n",
       "    \u001b[32m'Name'\u001b[0m,\n",
       "    \u001b[32m'Place'\u001b[0m,\n",
       "    \u001b[32m'School'\u001b[0m,\n",
       "    \u001b[32m'Sex'\u001b[0m,\n",
       "    \u001b[32m'Squat1Kg'\u001b[0m,\n",
       "    \u001b[32m'Squat2Kg'\u001b[0m,\n",
       "    \u001b[32m'Squat3Kg'\u001b[0m,\n",
       "    \u001b[32m'Squat4Kg'\u001b[0m,\n",
       "    \u001b[32m'State'\u001b[0m,\n",
       "    \u001b[32m'Team'\u001b[0m,\n",
       "    \u001b[32m'Tested'\u001b[0m,\n",
       "    \u001b[32m'TotalKg'\u001b[0m,\n",
       "    \u001b[32m'WeightClassKg'\u001b[0m\n",
       "\u001b[1m]\u001b[0m\n"
      ]
     },
     "metadata": {},
     "output_type": "display_data"
    }
   ],
   "source": [
    "sorted(list(columns))"
   ]
  },
  {
   "cell_type": "code",
   "execution_count": 6,
   "metadata": {},
   "outputs": [
    {
     "ename": "TypeError",
     "evalue": "'set' object is not subscriptable",
     "output_type": "error",
     "traceback": [
      "\u001b[0;31m---------------------------------------------------------------------------\u001b[0m",
      "\u001b[0;31mTypeError\u001b[0m                                 Traceback (most recent call last)",
      "\u001b[1;32m/Users/michelle/Documents/coding_projects/powerlifting-project/notebooks/exploring.ipynb Cell 7'\u001b[0m in \u001b[0;36m<cell line: 1>\u001b[0;34m()\u001b[0m\n\u001b[0;32m----> <a href='vscode-notebook-cell:/Users/michelle/Documents/coding_projects/powerlifting-project/notebooks/exploring.ipynb#ch0000006?line=0'>1</a>\u001b[0m columns[:\u001b[39m4\u001b[39;49m]\n",
      "\u001b[0;31mTypeError\u001b[0m: 'set' object is not subscriptable"
     ]
    }
   ],
   "source": [
    "columns[:4]"
   ]
  },
  {
   "cell_type": "code",
   "execution_count": null,
   "metadata": {},
   "outputs": [
    {
     "data": {
      "text/html": [
       "<pre style=\"white-space:pre;overflow-x:auto;line-height:normal;font-family:Menlo,'DejaVu Sans Mono',consolas,'Courier New',monospace\"><span style=\"font-weight: bold\">[</span><span style=\"color: #800080; text-decoration-color: #800080; font-weight: bold\">PosixPath</span><span style=\"font-weight: bold\">(</span><span style=\"color: #008000; text-decoration-color: #008000\">'../data/1069'</span><span style=\"font-weight: bold\">)</span>, <span style=\"color: #800080; text-decoration-color: #800080; font-weight: bold\">PosixPath</span><span style=\"font-weight: bold\">(</span><span style=\"color: #008000; text-decoration-color: #008000\">'../data/0987'</span><span style=\"font-weight: bold\">)]</span>\n",
       "</pre>\n"
      ],
      "text/plain": [
       "\u001b[1m[\u001b[0m\u001b[1;35mPosixPath\u001b[0m\u001b[1m(\u001b[0m\u001b[32m'../data/1069'\u001b[0m\u001b[1m)\u001b[0m, \u001b[1;35mPosixPath\u001b[0m\u001b[1m(\u001b[0m\u001b[32m'../data/0987'\u001b[0m\u001b[1m)\u001b[0m\u001b[1m]\u001b[0m\n"
      ]
     },
     "metadata": {},
     "output_type": "display_data"
    }
   ],
   "source": [
    "folders[:2]"
   ]
  },
  {
   "cell_type": "code",
   "execution_count": null,
   "metadata": {},
   "outputs": [],
   "source": [
    "# getting parts of file paths, not sure if needed...\n",
    "for fp in file_paths:\n",
    "    parts = fp.split('/')\n",
    "    print(parts)"
   ]
  },
  {
   "cell_type": "code",
   "execution_count": null,
   "metadata": {},
   "outputs": [
    {
     "data": {
      "text/html": [
       "<pre style=\"white-space:pre;overflow-x:auto;line-height:normal;font-family:Menlo,'DejaVu Sans Mono',consolas,'Courier New',monospace\">\n",
       "<span style=\"font-weight: bold\">{</span>\n",
       "    <span style=\"color: #008000; text-decoration-color: #008000\">'Federation'</span>: <span style=\"color: #008000; text-decoration-color: #008000\">'USPA'</span>,\n",
       "    <span style=\"color: #008000; text-decoration-color: #008000\">'Date'</span>: <span style=\"color: #008000; text-decoration-color: #008000\">'2022-02-20'</span>,\n",
       "    <span style=\"color: #008000; text-decoration-color: #008000\">'MeetCountry'</span>: <span style=\"color: #008000; text-decoration-color: #008000\">'USA'</span>,\n",
       "    <span style=\"color: #008000; text-decoration-color: #008000\">'MeetState'</span>: <span style=\"color: #008000; text-decoration-color: #008000\">'FL'</span>,\n",
       "    <span style=\"color: #008000; text-decoration-color: #008000\">'MeetTown'</span>: <span style=\"color: #008000; text-decoration-color: #008000\">'Seminole'</span>,\n",
       "    <span style=\"color: #008000; text-decoration-color: #008000\">'MeetName'</span>: <span style=\"color: #008000; text-decoration-color: #008000\">'Battle of the Bay VIII'</span>\n",
       "<span style=\"font-weight: bold\">}</span>\n",
       "</pre>\n"
      ],
      "text/plain": [
       "\n",
       "\u001b[1m{\u001b[0m\n",
       "    \u001b[32m'Federation'\u001b[0m: \u001b[32m'USPA'\u001b[0m,\n",
       "    \u001b[32m'Date'\u001b[0m: \u001b[32m'2022-02-20'\u001b[0m,\n",
       "    \u001b[32m'MeetCountry'\u001b[0m: \u001b[32m'USA'\u001b[0m,\n",
       "    \u001b[32m'MeetState'\u001b[0m: \u001b[32m'FL'\u001b[0m,\n",
       "    \u001b[32m'MeetTown'\u001b[0m: \u001b[32m'Seminole'\u001b[0m,\n",
       "    \u001b[32m'MeetName'\u001b[0m: \u001b[32m'Battle of the Bay VIII'\u001b[0m\n",
       "\u001b[1m}\u001b[0m\n"
      ]
     },
     "metadata": {},
     "output_type": "display_data"
    }
   ],
   "source": [
    "practice_meet = \"../data/2412/meet.csv\"\n",
    "\n",
    "meet = pd.read_csv(practice_meet)\n",
    "meet = meet.to_dict(orient='records')[0]\n",
    "meet"
   ]
  },
  {
   "cell_type": "code",
   "execution_count": 7,
   "metadata": {},
   "outputs": [
    {
     "ename": "NameError",
     "evalue": "name 'meet' is not defined",
     "output_type": "error",
     "traceback": [
      "\u001b[0;31m---------------------------------------------------------------------------\u001b[0m",
      "\u001b[0;31mNameError\u001b[0m                                 Traceback (most recent call last)",
      "\u001b[1;32m/Users/michelle/Documents/coding_projects/powerlifting-project/notebooks/exploring.ipynb Cell 11'\u001b[0m in \u001b[0;36m<cell line: 1>\u001b[0;34m()\u001b[0m\n\u001b[0;32m----> <a href='vscode-notebook-cell:/Users/michelle/Documents/coding_projects/powerlifting-project/notebooks/exploring.ipynb#ch0000010?line=0'>1</a>\u001b[0m meet_info \u001b[39m=\u001b[39m models\u001b[39m.\u001b[39mMeet\u001b[39m.\u001b[39mNew(meet)\n\u001b[1;32m      <a href='vscode-notebook-cell:/Users/michelle/Documents/coding_projects/powerlifting-project/notebooks/exploring.ipynb#ch0000010?line=1'>2</a>\u001b[0m meet_info\n",
      "\u001b[0;31mNameError\u001b[0m: name 'meet' is not defined"
     ]
    }
   ],
   "source": [
    "meet_info = models.Meet.New(meet)\n",
    "meet_info"
   ]
  },
  {
   "cell_type": "code",
   "execution_count": 8,
   "metadata": {},
   "outputs": [
    {
     "data": {
      "text/html": [
       "<pre style=\"white-space:pre;overflow-x:auto;line-height:normal;font-family:Menlo,'DejaVu Sans Mono',consolas,'Courier New',monospace\">\n",
       "<span style=\"font-weight: bold\">{</span>\n",
       "    <span style=\"color: #008000; text-decoration-color: #008000\">'Place'</span>: <span style=\"color: #008000; text-decoration-color: #008000\">'1'</span>,\n",
       "    <span style=\"color: #008000; text-decoration-color: #008000\">'Name'</span>: <span style=\"color: #008000; text-decoration-color: #008000\">'Allison Wilson #1'</span>,\n",
       "    <span style=\"color: #008000; text-decoration-color: #008000\">'State'</span>: <span style=\"color: #008000; text-decoration-color: #008000\">'FL'</span>,\n",
       "    <span style=\"color: #008000; text-decoration-color: #008000\">'WeightClassKg'</span>: <span style=\"color: #008000; text-decoration-color: #008000\">'67.5'</span>,\n",
       "    <span style=\"color: #008000; text-decoration-color: #008000\">'BodyweightKg'</span>: <span style=\"color: #008080; text-decoration-color: #008080; font-weight: bold\">60.7</span>,\n",
       "    <span style=\"color: #008000; text-decoration-color: #008000\">'BirthDate'</span>: <span style=\"color: #800080; text-decoration-color: #800080; font-style: italic\">None</span>,\n",
       "    <span style=\"color: #008000; text-decoration-color: #008000\">'Age'</span>: <span style=\"color: #008080; text-decoration-color: #008080; font-weight: bold\">17</span>,\n",
       "    <span style=\"color: #008000; text-decoration-color: #008000\">'Squat1Kg'</span>: <span style=\"color: #008080; text-decoration-color: #008080; font-weight: bold\">110.0</span>,\n",
       "    <span style=\"color: #008000; text-decoration-color: #008000\">'Squat2Kg'</span>: <span style=\"color: #008080; text-decoration-color: #008080; font-weight: bold\">-115.0</span>,\n",
       "    <span style=\"color: #008000; text-decoration-color: #008000\">'Squat3Kg'</span>: <span style=\"color: #008080; text-decoration-color: #008080; font-weight: bold\">115.0</span>,\n",
       "    <span style=\"color: #008000; text-decoration-color: #008000\">'Best3SquatKg'</span>: <span style=\"color: #008080; text-decoration-color: #008080; font-weight: bold\">115.0</span>,\n",
       "    <span style=\"color: #008000; text-decoration-color: #008000\">'Bench1Kg'</span>: <span style=\"color: #008080; text-decoration-color: #008080; font-weight: bold\">75.0</span>,\n",
       "    <span style=\"color: #008000; text-decoration-color: #008000\">'Bench2Kg'</span>: <span style=\"color: #008080; text-decoration-color: #008080; font-weight: bold\">77.5</span>,\n",
       "    <span style=\"color: #008000; text-decoration-color: #008000\">'Bench3Kg'</span>: <span style=\"color: #008080; text-decoration-color: #008080; font-weight: bold\">-80.0</span>,\n",
       "    <span style=\"color: #008000; text-decoration-color: #008000\">'Best3BenchKg'</span>: <span style=\"color: #008080; text-decoration-color: #008080; font-weight: bold\">77.5</span>,\n",
       "    <span style=\"color: #008000; text-decoration-color: #008000\">'Deadlift1Kg'</span>: <span style=\"color: #008080; text-decoration-color: #008080; font-weight: bold\">122.5</span>,\n",
       "    <span style=\"color: #008000; text-decoration-color: #008000\">'Deadlift2Kg'</span>: <span style=\"color: #008080; text-decoration-color: #008080; font-weight: bold\">-130.0</span>,\n",
       "    <span style=\"color: #008000; text-decoration-color: #008000\">'Deadlift3Kg'</span>: <span style=\"color: #008080; text-decoration-color: #008080; font-weight: bold\">-130.0</span>,\n",
       "    <span style=\"color: #008000; text-decoration-color: #008000\">'Best3DeadliftKg'</span>: <span style=\"color: #008080; text-decoration-color: #008080; font-weight: bold\">122.5</span>,\n",
       "    <span style=\"color: #008000; text-decoration-color: #008000\">'TotalKg'</span>: <span style=\"color: #008080; text-decoration-color: #008080; font-weight: bold\">315.0</span>,\n",
       "    <span style=\"color: #008000; text-decoration-color: #008000\">'Deadlift4Kg'</span>: <span style=\"color: #800080; text-decoration-color: #800080; font-style: italic\">None</span>,\n",
       "    <span style=\"color: #008000; text-decoration-color: #008000\">'Event'</span>: <span style=\"color: #008000; text-decoration-color: #008000\">'SBD'</span>,\n",
       "    <span style=\"color: #008000; text-decoration-color: #008000\">'Equipment'</span>: <span style=\"color: #008000; text-decoration-color: #008000\">'Raw'</span>,\n",
       "    <span style=\"color: #008000; text-decoration-color: #008000\">'Sex'</span>: <span style=\"color: #008000; text-decoration-color: #008000\">'F'</span>,\n",
       "    <span style=\"color: #008000; text-decoration-color: #008000\">'Division'</span>: <span style=\"color: #008000; text-decoration-color: #008000\">'Juniors 16-17'</span>\n",
       "<span style=\"font-weight: bold\">}</span>\n",
       "</pre>\n"
      ],
      "text/plain": [
       "\n",
       "\u001b[1m{\u001b[0m\n",
       "    \u001b[32m'Place'\u001b[0m: \u001b[32m'1'\u001b[0m,\n",
       "    \u001b[32m'Name'\u001b[0m: \u001b[32m'Allison Wilson #1'\u001b[0m,\n",
       "    \u001b[32m'State'\u001b[0m: \u001b[32m'FL'\u001b[0m,\n",
       "    \u001b[32m'WeightClassKg'\u001b[0m: \u001b[32m'67.5'\u001b[0m,\n",
       "    \u001b[32m'BodyweightKg'\u001b[0m: \u001b[1;36m60.7\u001b[0m,\n",
       "    \u001b[32m'BirthDate'\u001b[0m: \u001b[3;35mNone\u001b[0m,\n",
       "    \u001b[32m'Age'\u001b[0m: \u001b[1;36m17\u001b[0m,\n",
       "    \u001b[32m'Squat1Kg'\u001b[0m: \u001b[1;36m110.0\u001b[0m,\n",
       "    \u001b[32m'Squat2Kg'\u001b[0m: \u001b[1;36m-115.0\u001b[0m,\n",
       "    \u001b[32m'Squat3Kg'\u001b[0m: \u001b[1;36m115.0\u001b[0m,\n",
       "    \u001b[32m'Best3SquatKg'\u001b[0m: \u001b[1;36m115.0\u001b[0m,\n",
       "    \u001b[32m'Bench1Kg'\u001b[0m: \u001b[1;36m75.0\u001b[0m,\n",
       "    \u001b[32m'Bench2Kg'\u001b[0m: \u001b[1;36m77.5\u001b[0m,\n",
       "    \u001b[32m'Bench3Kg'\u001b[0m: \u001b[1;36m-80.0\u001b[0m,\n",
       "    \u001b[32m'Best3BenchKg'\u001b[0m: \u001b[1;36m77.5\u001b[0m,\n",
       "    \u001b[32m'Deadlift1Kg'\u001b[0m: \u001b[1;36m122.5\u001b[0m,\n",
       "    \u001b[32m'Deadlift2Kg'\u001b[0m: \u001b[1;36m-130.0\u001b[0m,\n",
       "    \u001b[32m'Deadlift3Kg'\u001b[0m: \u001b[1;36m-130.0\u001b[0m,\n",
       "    \u001b[32m'Best3DeadliftKg'\u001b[0m: \u001b[1;36m122.5\u001b[0m,\n",
       "    \u001b[32m'TotalKg'\u001b[0m: \u001b[1;36m315.0\u001b[0m,\n",
       "    \u001b[32m'Deadlift4Kg'\u001b[0m: \u001b[3;35mNone\u001b[0m,\n",
       "    \u001b[32m'Event'\u001b[0m: \u001b[32m'SBD'\u001b[0m,\n",
       "    \u001b[32m'Equipment'\u001b[0m: \u001b[32m'Raw'\u001b[0m,\n",
       "    \u001b[32m'Sex'\u001b[0m: \u001b[32m'F'\u001b[0m,\n",
       "    \u001b[32m'Division'\u001b[0m: \u001b[32m'Juniors 16-17'\u001b[0m\n",
       "\u001b[1m}\u001b[0m\n"
      ]
     },
     "metadata": {},
     "output_type": "display_data"
    }
   ],
   "source": [
    "practice_entries = \"../data/2412/entries.csv\"\n",
    "\n",
    "entries = pd.read_csv(practice_entries)\n",
    "entries = entries.replace(np.nan, None).to_dict(orient='records')\n",
    "entries[0]"
   ]
  },
  {
   "cell_type": "code",
   "execution_count": 9,
   "metadata": {},
   "outputs": [],
   "source": [
    "temp = {\n",
    "    'Place': '1',\n",
    "    'Name': 'Allison Wilson #1',\n",
    "    'State': 'FL',\n",
    "    'WeightClassKg': 'hi',\n",
    "    'BodyweightKg': 60.7,\n",
    "    'BirthDate': None,\n",
    "    'Age': 17,\n",
    "    'Squat1Kg': 110.0,\n",
    "    'Squat2Kg': -115.0,\n",
    "    'Squat3Kg': 115.0,\n",
    "    'Best3SquatKg': 115.0,\n",
    "    'Bench1Kg': 75.0,\n",
    "    'Bench2Kg': 77.5,\n",
    "    'Bench3Kg': -80.0,\n",
    "    'Best3BenchKg': 77.5,\n",
    "    'Deadlift1Kg': 122.5,\n",
    "    'Deadlift2Kg': -130.0,\n",
    "    'Deadlift3Kg': -130.0,\n",
    "    'Best3DeadliftKg': 122.5,\n",
    "    'TotalKg': 315.0,\n",
    "    'Deadlift4Kg': None,\n",
    "    'Event': 'SBD',\n",
    "    'Equipment': 'Raw',\n",
    "    'Sex': 'F',\n",
    "    'Division': 'Juniors 16-17'\n",
    "}"
   ]
  },
  {
   "cell_type": "code",
   "execution_count": 10,
   "metadata": {},
   "outputs": [
    {
     "data": {
      "text/html": [
       "<pre style=\"white-space:pre;overflow-x:auto;line-height:normal;font-family:Menlo,'DejaVu Sans Mono',consolas,'Courier New',monospace\"><span style=\"color: #800080; text-decoration-color: #800080; font-weight: bold\">Athlete</span><span style=\"font-weight: bold\">(</span><span style=\"color: #808000; text-decoration-color: #808000\">name</span>=<span style=\"color: #008000; text-decoration-color: #008000\">'Allison Wilson'</span>, <span style=\"color: #808000; text-decoration-color: #808000\">place</span>=<span style=\"color: #008000; text-decoration-color: #008000\">'1'</span>, <span style=\"color: #808000; text-decoration-color: #808000\">state</span>=<span style=\"color: #008000; text-decoration-color: #008000\">'FL'</span>, <span style=\"color: #808000; text-decoration-color: #808000\">weight_class</span>=<span style=\"color: #008080; text-decoration-color: #008080; font-weight: bold\">67.5</span>, <span style=\"color: #808000; text-decoration-color: #808000\">body_weight</span>=<span style=\"color: #008080; text-decoration-color: #008080; font-weight: bold\">60.7</span>, <span style=\"color: #808000; text-decoration-color: #808000\">age</span>=<span style=\"color: #008080; text-decoration-color: #008080; font-weight: bold\">17</span>, <span style=\"color: #808000; text-decoration-color: #808000\">best_squat</span>=<span style=\"color: #008080; text-decoration-color: #008080; font-weight: bold\">115.0</span>, <span style=\"color: #808000; text-decoration-color: #808000\">best_bench</span>=<span style=\"color: #008080; text-decoration-color: #008080; font-weight: bold\">77.5</span>, <span style=\"color: #808000; text-decoration-color: #808000\">best_deadlift</span>=<span style=\"color: #008080; text-decoration-color: #008080; font-weight: bold\">-130.0</span>, <span style=\"color: #808000; text-decoration-color: #808000\">total</span>=<span style=\"color: #008080; text-decoration-color: #008080; font-weight: bold\">315.0</span>, <span style=\"color: #808000; text-decoration-color: #808000\">event</span>=<span style=\"color: #008000; text-decoration-color: #008000\">'SBD'</span>, <span style=\"color: #808000; text-decoration-color: #808000\">equipment</span>=<span style=\"color: #008000; text-decoration-color: #008000\">'Raw'</span>, <span style=\"color: #808000; text-decoration-color: #808000\">sex</span>=<span style=\"color: #008000; text-decoration-color: #008000\">'F'</span>, <span style=\"color: #808000; text-decoration-color: #808000\">division</span>=<span style=\"color: #008000; text-decoration-color: #008000\">'Juniors 16-17'</span>, <span style=\"color: #808000; text-decoration-color: #808000\">squats</span>=<span style=\"color: #800080; text-decoration-color: #800080; font-weight: bold\">Lift</span><span style=\"font-weight: bold\">(</span><span style=\"color: #808000; text-decoration-color: #808000\">lift1</span>=<span style=\"color: #008080; text-decoration-color: #008080; font-weight: bold\">110.0</span>, <span style=\"color: #808000; text-decoration-color: #808000\">lift2</span>=<span style=\"color: #008080; text-decoration-color: #008080; font-weight: bold\">-115.0</span>, <span style=\"color: #808000; text-decoration-color: #808000\">lift3</span>=<span style=\"color: #008080; text-decoration-color: #008080; font-weight: bold\">115.0</span>, <span style=\"color: #808000; text-decoration-color: #808000\">lift4</span>=<span style=\"color: #800080; text-decoration-color: #800080; font-style: italic\">None</span><span style=\"font-weight: bold\">)</span>, <span style=\"color: #808000; text-decoration-color: #808000\">benches</span>=<span style=\"color: #800080; text-decoration-color: #800080; font-weight: bold\">Lift</span><span style=\"font-weight: bold\">(</span><span style=\"color: #808000; text-decoration-color: #808000\">lift1</span>=<span style=\"color: #008080; text-decoration-color: #008080; font-weight: bold\">75.0</span>, <span style=\"color: #808000; text-decoration-color: #808000\">lift2</span>=<span style=\"color: #008080; text-decoration-color: #008080; font-weight: bold\">77.5</span>, <span style=\"color: #808000; text-decoration-color: #808000\">lift3</span>=<span style=\"color: #008080; text-decoration-color: #008080; font-weight: bold\">-80.0</span>, <span style=\"color: #808000; text-decoration-color: #808000\">lift4</span>=<span style=\"color: #800080; text-decoration-color: #800080; font-style: italic\">None</span><span style=\"font-weight: bold\">)</span>, <span style=\"color: #808000; text-decoration-color: #808000\">deadlifts</span>=<span style=\"color: #800080; text-decoration-color: #800080; font-weight: bold\">Lift</span><span style=\"font-weight: bold\">(</span><span style=\"color: #808000; text-decoration-color: #808000\">lift1</span>=<span style=\"color: #800080; text-decoration-color: #800080; font-style: italic\">None</span>, <span style=\"color: #808000; text-decoration-color: #808000\">lift2</span>=<span style=\"color: #800080; text-decoration-color: #800080; font-style: italic\">None</span>, <span style=\"color: #808000; text-decoration-color: #808000\">lift3</span>=<span style=\"color: #800080; text-decoration-color: #800080; font-style: italic\">None</span>, <span style=\"color: #808000; text-decoration-color: #808000\">lift4</span>=<span style=\"color: #800080; text-decoration-color: #800080; font-style: italic\">None</span><span style=\"font-weight: bold\">)</span>, <span style=\"color: #808000; text-decoration-color: #808000\">birth_date</span>=<span style=\"color: #800080; text-decoration-color: #800080; font-style: italic\">None</span><span style=\"font-weight: bold\">)</span>\n",
       "</pre>\n"
      ],
      "text/plain": [
       "\u001b[1;35mAthlete\u001b[0m\u001b[1m(\u001b[0m\u001b[33mname\u001b[0m=\u001b[32m'Allison Wilson'\u001b[0m, \u001b[33mplace\u001b[0m=\u001b[32m'1'\u001b[0m, \u001b[33mstate\u001b[0m=\u001b[32m'FL'\u001b[0m, \u001b[33mweight_class\u001b[0m=\u001b[1;36m67\u001b[0m\u001b[1;36m.5\u001b[0m, \u001b[33mbody_weight\u001b[0m=\u001b[1;36m60\u001b[0m\u001b[1;36m.7\u001b[0m, \u001b[33mage\u001b[0m=\u001b[1;36m17\u001b[0m, \u001b[33mbest_squat\u001b[0m=\u001b[1;36m115\u001b[0m\u001b[1;36m.0\u001b[0m, \u001b[33mbest_bench\u001b[0m=\u001b[1;36m77\u001b[0m\u001b[1;36m.5\u001b[0m, \u001b[33mbest_deadlift\u001b[0m=\u001b[1;36m-130.0\u001b[0m, \u001b[33mtotal\u001b[0m=\u001b[1;36m315\u001b[0m\u001b[1;36m.0\u001b[0m, \u001b[33mevent\u001b[0m=\u001b[32m'SBD'\u001b[0m, \u001b[33mequipment\u001b[0m=\u001b[32m'Raw'\u001b[0m, \u001b[33msex\u001b[0m=\u001b[32m'F'\u001b[0m, \u001b[33mdivision\u001b[0m=\u001b[32m'Juniors 16-17'\u001b[0m, \u001b[33msquats\u001b[0m=\u001b[1;35mLift\u001b[0m\u001b[1m(\u001b[0m\u001b[33mlift1\u001b[0m=\u001b[1;36m110\u001b[0m\u001b[1;36m.0\u001b[0m, \u001b[33mlift2\u001b[0m=\u001b[1;36m-115.0\u001b[0m, \u001b[33mlift3\u001b[0m=\u001b[1;36m115\u001b[0m\u001b[1;36m.0\u001b[0m, \u001b[33mlift4\u001b[0m=\u001b[3;35mNone\u001b[0m\u001b[1m)\u001b[0m, \u001b[33mbenches\u001b[0m=\u001b[1;35mLift\u001b[0m\u001b[1m(\u001b[0m\u001b[33mlift1\u001b[0m=\u001b[1;36m75\u001b[0m\u001b[1;36m.0\u001b[0m, \u001b[33mlift2\u001b[0m=\u001b[1;36m77\u001b[0m\u001b[1;36m.5\u001b[0m, \u001b[33mlift3\u001b[0m=\u001b[1;36m-80.0\u001b[0m, \u001b[33mlift4\u001b[0m=\u001b[3;35mNone\u001b[0m\u001b[1m)\u001b[0m, \u001b[33mdeadlifts\u001b[0m=\u001b[1;35mLift\u001b[0m\u001b[1m(\u001b[0m\u001b[33mlift1\u001b[0m=\u001b[3;35mNone\u001b[0m, \u001b[33mlift2\u001b[0m=\u001b[3;35mNone\u001b[0m, \u001b[33mlift3\u001b[0m=\u001b[3;35mNone\u001b[0m, \u001b[33mlift4\u001b[0m=\u001b[3;35mNone\u001b[0m\u001b[1m)\u001b[0m, \u001b[33mbirth_date\u001b[0m=\u001b[3;35mNone\u001b[0m\u001b[1m)\u001b[0m\n"
      ]
     },
     "metadata": {},
     "output_type": "display_data"
    }
   ],
   "source": [
    "models.Athlete.New(entries[0])"
   ]
  },
  {
   "cell_type": "code",
   "execution_count": 11,
   "metadata": {},
   "outputs": [],
   "source": [
    "def good_header(fpath: Path) -> bool:\n",
    "    target_fields = [\"Place\",\"Name\",\"State\",\"WeightClassKg\",\"BodyweightKg\",\"BirthDate\",\"Age\",\"Squat1Kg\",\"Squat2Kg\",\"Squat3Kg\",\"Best3SquatKg\",\"Bench1Kg\",\"Bench2Kg\",\"Bench3Kg\",\"Best3BenchKg\",\"Deadlift1Kg\",\"Deadlift2Kg\",\"Deadlift3Kg\",\"Best3DeadliftKg\",\"TotalKg\",\"Bench4Kg\",\"Deadlift4Kg\",\"Event\",\"Equipment\",\"Sex\",\"Division\"]\n",
    "    with open(fpath.as_posix(), \"r\") as f:\n",
    "        reader = csv.reader(f)\n",
    "        header = next(reader)\n",
    "    return True if  header == target_fields else False\n"
   ]
  },
  {
   "cell_type": "code",
   "execution_count": 12,
   "metadata": {},
   "outputs": [
    {
     "data": {
      "text/html": [
       "<pre style=\"white-space:pre;overflow-x:auto;line-height:normal;font-family:Menlo,'DejaVu Sans Mono',consolas,'Courier New',monospace\">Total athletes collected: <span style=\"color: #008080; text-decoration-color: #008080; font-weight: bold\">2911</span> across <span style=\"color: #008080; text-decoration-color: #008080; font-weight: bold\">33</span> valid events out of <span style=\"font-weight: bold\">(</span><span style=\"color: #008080; text-decoration-color: #008080; font-weight: bold\">1.4</span>%<span style=\"font-weight: bold\">)</span>.\n",
       "</pre>\n"
      ],
      "text/plain": [
       "Total athletes collected: \u001b[1;36m2911\u001b[0m across \u001b[1;36m33\u001b[0m valid events out of \u001b[1m(\u001b[0m\u001b[1;36m1.4\u001b[0m%\u001b[1m)\u001b[0m.\n"
      ]
     },
     "metadata": {},
     "output_type": "display_data"
    },
    {
     "data": {
      "text/html": [
       "<pre style=\"white-space:pre;overflow-x:auto;line-height:normal;font-family:Menlo,'DejaVu Sans Mono',consolas,'Courier New',monospace\">\n",
       "<span style=\"font-weight: bold\">[</span>\n",
       "    <span style=\"color: #800080; text-decoration-color: #800080; font-weight: bold\">Athlete</span><span style=\"font-weight: bold\">(</span><span style=\"color: #808000; text-decoration-color: #808000\">name</span>=<span style=\"color: #008000; text-decoration-color: #008000\">'Ashley Wisner'</span>, <span style=\"color: #808000; text-decoration-color: #808000\">place</span>=<span style=\"color: #008000; text-decoration-color: #008000\">'1'</span>, <span style=\"color: #808000; text-decoration-color: #808000\">state</span>=<span style=\"color: #008000; text-decoration-color: #008000\">'MD'</span>, <span style=\"color: #808000; text-decoration-color: #808000\">weight_class</span>=<span style=\"color: #008080; text-decoration-color: #008080; font-weight: bold\">52.0</span>, <span style=\"color: #808000; text-decoration-color: #808000\">body_weight</span>=<span style=\"color: #008080; text-decoration-color: #008080; font-weight: bold\">51.5</span>, <span style=\"color: #808000; text-decoration-color: #808000\">age</span>=<span style=\"color: #008080; text-decoration-color: #008080; font-weight: bold\">23</span>, <span style=\"color: #808000; text-decoration-color: #808000\">best_squat</span>=<span style=\"color: #008080; text-decoration-color: #008080; font-weight: bold\">92.5</span>, <span style=\"color: #808000; text-decoration-color: #808000\">best_bench</span>=<span style=\"color: #008080; text-decoration-color: #008080; font-weight: bold\">57.5</span>, <span style=\"color: #808000; text-decoration-color: #808000\">best_deadlift</span>=<span style=\"color: #008080; text-decoration-color: #008080; font-weight: bold\">142.5</span>, <span style=\"color: #808000; text-decoration-color: #808000\">total</span>=<span style=\"color: #008080; text-decoration-color: #008080; font-weight: bold\">292.5</span>, <span style=\"color: #808000; text-decoration-color: #808000\">event</span>=<span style=\"color: #008000; text-decoration-color: #008000\">'SBD'</span>, <span style=\"color: #808000; text-decoration-color: #808000\">equipment</span>=<span style=\"color: #008000; text-decoration-color: #008000\">'Raw'</span>, <span style=\"color: #808000; text-decoration-color: #808000\">sex</span>=<span style=\"color: #008000; text-decoration-color: #008000\">'F'</span>, <span style=\"color: #808000; text-decoration-color: #808000\">division</span>=<span style=\"color: #008000; text-decoration-color: #008000\">'Juniors 20-23'</span>, <span style=\"color: #808000; text-decoration-color: #808000\">squats</span>=<span style=\"color: #800080; text-decoration-color: #800080; font-weight: bold\">Lift</span><span style=\"font-weight: bold\">(</span><span style=\"color: #808000; text-decoration-color: #808000\">lift1</span>=<span style=\"color: #008080; text-decoration-color: #008080; font-weight: bold\">80.0</span>, <span style=\"color: #808000; text-decoration-color: #808000\">lift2</span>=<span style=\"color: #008080; text-decoration-color: #008080; font-weight: bold\">85.0</span>, <span style=\"color: #808000; text-decoration-color: #808000\">lift3</span>=<span style=\"color: #008080; text-decoration-color: #008080; font-weight: bold\">92.5</span>, <span style=\"color: #808000; text-decoration-color: #808000\">lift4</span>=<span style=\"color: #800080; text-decoration-color: #800080; font-style: italic\">None</span><span style=\"font-weight: bold\">)</span>, <span style=\"color: #808000; text-decoration-color: #808000\">benches</span>=<span style=\"color: #800080; text-decoration-color: #800080; font-weight: bold\">Lift</span><span style=\"font-weight: bold\">(</span><span style=\"color: #808000; text-decoration-color: #808000\">lift1</span>=<span style=\"color: #008080; text-decoration-color: #008080; font-weight: bold\">-55.0</span>, <span style=\"color: #808000; text-decoration-color: #808000\">lift2</span>=<span style=\"color: #008080; text-decoration-color: #008080; font-weight: bold\">57.5</span>, <span style=\"color: #808000; text-decoration-color: #808000\">lift3</span>=<span style=\"color: #008080; text-decoration-color: #008080; font-weight: bold\">-60.0</span>, <span style=\"color: #808000; text-decoration-color: #808000\">lift4</span>=<span style=\"color: #800080; text-decoration-color: #800080; font-style: italic\">None</span><span style=\"font-weight: bold\">)</span>, <span style=\"color: #808000; text-decoration-color: #808000\">deadlifts</span>=<span style=\"color: #800080; text-decoration-color: #800080; font-weight: bold\">Lift</span><span style=\"font-weight: bold\">(</span><span style=\"color: #808000; text-decoration-color: #808000\">lift1</span>=<span style=\"color: #800080; text-decoration-color: #800080; font-style: italic\">None</span>, <span style=\"color: #808000; text-decoration-color: #808000\">lift2</span>=<span style=\"color: #800080; text-decoration-color: #800080; font-style: italic\">None</span>, <span style=\"color: #808000; text-decoration-color: #808000\">lift3</span>=<span style=\"color: #800080; text-decoration-color: #800080; font-style: italic\">None</span>, <span style=\"color: #808000; text-decoration-color: #808000\">lift4</span>=<span style=\"color: #800080; text-decoration-color: #800080; font-style: italic\">None</span><span style=\"font-weight: bold\">)</span>, <span style=\"color: #808000; text-decoration-color: #808000\">birth_date</span>=<span style=\"color: #800080; text-decoration-color: #800080; font-style: italic\">None</span><span style=\"font-weight: bold\">)</span>,\n",
       "    <span style=\"color: #800080; text-decoration-color: #800080; font-weight: bold\">Athlete</span><span style=\"font-weight: bold\">(</span><span style=\"color: #808000; text-decoration-color: #808000\">name</span>=<span style=\"color: #008000; text-decoration-color: #008000\">'Michelle Sadler'</span>, <span style=\"color: #808000; text-decoration-color: #808000\">place</span>=<span style=\"color: #008000; text-decoration-color: #008000\">'1'</span>, <span style=\"color: #808000; text-decoration-color: #808000\">state</span>=<span style=\"color: #008000; text-decoration-color: #008000\">'MD'</span>, <span style=\"color: #808000; text-decoration-color: #808000\">weight_class</span>=<span style=\"color: #008080; text-decoration-color: #008080; font-weight: bold\">67.5</span>, <span style=\"color: #808000; text-decoration-color: #808000\">body_weight</span>=<span style=\"color: #008080; text-decoration-color: #008080; font-weight: bold\">65.4</span>, <span style=\"color: #808000; text-decoration-color: #808000\">age</span>=<span style=\"color: #008080; text-decoration-color: #008080; font-weight: bold\">31</span>, <span style=\"color: #808000; text-decoration-color: #808000\">best_squat</span>=<span style=\"color: #008080; text-decoration-color: #008080; font-weight: bold\">105.0</span>, <span style=\"color: #808000; text-decoration-color: #808000\">best_bench</span>=<span style=\"color: #008080; text-decoration-color: #008080; font-weight: bold\">50.0</span>, <span style=\"color: #808000; text-decoration-color: #808000\">best_deadlift</span>=<span style=\"color: #008080; text-decoration-color: #008080; font-weight: bold\">115.0</span>, <span style=\"color: #808000; text-decoration-color: #808000\">total</span>=<span style=\"color: #008080; text-decoration-color: #008080; font-weight: bold\">270.0</span>, <span style=\"color: #808000; text-decoration-color: #808000\">event</span>=<span style=\"color: #008000; text-decoration-color: #008000\">'SBD'</span>, <span style=\"color: #808000; text-decoration-color: #808000\">equipment</span>=<span style=\"color: #008000; text-decoration-color: #008000\">'Raw'</span>, <span style=\"color: #808000; text-decoration-color: #808000\">sex</span>=<span style=\"color: #008000; text-decoration-color: #008000\">'F'</span>, <span style=\"color: #808000; text-decoration-color: #808000\">division</span>=<span style=\"color: #008000; text-decoration-color: #008000\">'Open'</span>, <span style=\"color: #808000; text-decoration-color: #808000\">squats</span>=<span style=\"color: #800080; text-decoration-color: #800080; font-weight: bold\">Lift</span><span style=\"font-weight: bold\">(</span><span style=\"color: #808000; text-decoration-color: #808000\">lift1</span>=<span style=\"color: #008080; text-decoration-color: #008080; font-weight: bold\">95.0</span>, <span style=\"color: #808000; text-decoration-color: #808000\">lift2</span>=<span style=\"color: #008080; text-decoration-color: #008080; font-weight: bold\">100.0</span>, <span style=\"color: #808000; text-decoration-color: #808000\">lift3</span>=<span style=\"color: #008080; text-decoration-color: #008080; font-weight: bold\">105.0</span>, <span style=\"color: #808000; text-decoration-color: #808000\">lift4</span>=<span style=\"color: #800080; text-decoration-color: #800080; font-style: italic\">None</span><span style=\"font-weight: bold\">)</span>, <span style=\"color: #808000; text-decoration-color: #808000\">benches</span>=<span style=\"color: #800080; text-decoration-color: #800080; font-weight: bold\">Lift</span><span style=\"font-weight: bold\">(</span><span style=\"color: #808000; text-decoration-color: #808000\">lift1</span>=<span style=\"color: #008080; text-decoration-color: #008080; font-weight: bold\">45.0</span>, <span style=\"color: #808000; text-decoration-color: #808000\">lift2</span>=<span style=\"color: #008080; text-decoration-color: #008080; font-weight: bold\">50.0</span>, <span style=\"color: #808000; text-decoration-color: #808000\">lift3</span>=<span style=\"color: #008080; text-decoration-color: #008080; font-weight: bold\">-52.5</span>, <span style=\"color: #808000; text-decoration-color: #808000\">lift4</span>=<span style=\"color: #800080; text-decoration-color: #800080; font-style: italic\">None</span><span style=\"font-weight: bold\">)</span>, <span style=\"color: #808000; text-decoration-color: #808000\">deadlifts</span>=<span style=\"color: #800080; text-decoration-color: #800080; font-weight: bold\">Lift</span><span style=\"font-weight: bold\">(</span><span style=\"color: #808000; text-decoration-color: #808000\">lift1</span>=<span style=\"color: #800080; text-decoration-color: #800080; font-style: italic\">None</span>, <span style=\"color: #808000; text-decoration-color: #808000\">lift2</span>=<span style=\"color: #800080; text-decoration-color: #800080; font-style: italic\">None</span>, <span style=\"color: #808000; text-decoration-color: #808000\">lift3</span>=<span style=\"color: #800080; text-decoration-color: #800080; font-style: italic\">None</span>, <span style=\"color: #808000; text-decoration-color: #808000\">lift4</span>=<span style=\"color: #800080; text-decoration-color: #800080; font-style: italic\">None</span><span style=\"font-weight: bold\">)</span>, <span style=\"color: #808000; text-decoration-color: #808000\">birth_date</span>=<span style=\"color: #800080; text-decoration-color: #800080; font-style: italic\">None</span><span style=\"font-weight: bold\">)</span>\n",
       "<span style=\"font-weight: bold\">]</span>\n",
       "</pre>\n"
      ],
      "text/plain": [
       "\n",
       "\u001b[1m[\u001b[0m\n",
       "    \u001b[1;35mAthlete\u001b[0m\u001b[1m(\u001b[0m\u001b[33mname\u001b[0m=\u001b[32m'Ashley Wisner'\u001b[0m, \u001b[33mplace\u001b[0m=\u001b[32m'1'\u001b[0m, \u001b[33mstate\u001b[0m=\u001b[32m'MD'\u001b[0m, \u001b[33mweight_class\u001b[0m=\u001b[1;36m52\u001b[0m\u001b[1;36m.0\u001b[0m, \u001b[33mbody_weight\u001b[0m=\u001b[1;36m51\u001b[0m\u001b[1;36m.5\u001b[0m, \u001b[33mage\u001b[0m=\u001b[1;36m23\u001b[0m, \u001b[33mbest_squat\u001b[0m=\u001b[1;36m92\u001b[0m\u001b[1;36m.5\u001b[0m, \u001b[33mbest_bench\u001b[0m=\u001b[1;36m57\u001b[0m\u001b[1;36m.5\u001b[0m, \u001b[33mbest_deadlift\u001b[0m=\u001b[1;36m142\u001b[0m\u001b[1;36m.5\u001b[0m, \u001b[33mtotal\u001b[0m=\u001b[1;36m292\u001b[0m\u001b[1;36m.5\u001b[0m, \u001b[33mevent\u001b[0m=\u001b[32m'SBD'\u001b[0m, \u001b[33mequipment\u001b[0m=\u001b[32m'Raw'\u001b[0m, \u001b[33msex\u001b[0m=\u001b[32m'F'\u001b[0m, \u001b[33mdivision\u001b[0m=\u001b[32m'Juniors 20-23'\u001b[0m, \u001b[33msquats\u001b[0m=\u001b[1;35mLift\u001b[0m\u001b[1m(\u001b[0m\u001b[33mlift1\u001b[0m=\u001b[1;36m80\u001b[0m\u001b[1;36m.0\u001b[0m, \u001b[33mlift2\u001b[0m=\u001b[1;36m85\u001b[0m\u001b[1;36m.0\u001b[0m, \u001b[33mlift3\u001b[0m=\u001b[1;36m92\u001b[0m\u001b[1;36m.5\u001b[0m, \u001b[33mlift4\u001b[0m=\u001b[3;35mNone\u001b[0m\u001b[1m)\u001b[0m, \u001b[33mbenches\u001b[0m=\u001b[1;35mLift\u001b[0m\u001b[1m(\u001b[0m\u001b[33mlift1\u001b[0m=\u001b[1;36m-55.0\u001b[0m, \u001b[33mlift2\u001b[0m=\u001b[1;36m57\u001b[0m\u001b[1;36m.5\u001b[0m, \u001b[33mlift3\u001b[0m=\u001b[1;36m-60.0\u001b[0m, \u001b[33mlift4\u001b[0m=\u001b[3;35mNone\u001b[0m\u001b[1m)\u001b[0m, \u001b[33mdeadlifts\u001b[0m=\u001b[1;35mLift\u001b[0m\u001b[1m(\u001b[0m\u001b[33mlift1\u001b[0m=\u001b[3;35mNone\u001b[0m, \u001b[33mlift2\u001b[0m=\u001b[3;35mNone\u001b[0m, \u001b[33mlift3\u001b[0m=\u001b[3;35mNone\u001b[0m, \u001b[33mlift4\u001b[0m=\u001b[3;35mNone\u001b[0m\u001b[1m)\u001b[0m, \u001b[33mbirth_date\u001b[0m=\u001b[3;35mNone\u001b[0m\u001b[1m)\u001b[0m,\n",
       "    \u001b[1;35mAthlete\u001b[0m\u001b[1m(\u001b[0m\u001b[33mname\u001b[0m=\u001b[32m'Michelle Sadler'\u001b[0m, \u001b[33mplace\u001b[0m=\u001b[32m'1'\u001b[0m, \u001b[33mstate\u001b[0m=\u001b[32m'MD'\u001b[0m, \u001b[33mweight_class\u001b[0m=\u001b[1;36m67\u001b[0m\u001b[1;36m.5\u001b[0m, \u001b[33mbody_weight\u001b[0m=\u001b[1;36m65\u001b[0m\u001b[1;36m.4\u001b[0m, \u001b[33mage\u001b[0m=\u001b[1;36m31\u001b[0m, \u001b[33mbest_squat\u001b[0m=\u001b[1;36m105\u001b[0m\u001b[1;36m.0\u001b[0m, \u001b[33mbest_bench\u001b[0m=\u001b[1;36m50\u001b[0m\u001b[1;36m.0\u001b[0m, \u001b[33mbest_deadlift\u001b[0m=\u001b[1;36m115\u001b[0m\u001b[1;36m.0\u001b[0m, \u001b[33mtotal\u001b[0m=\u001b[1;36m270\u001b[0m\u001b[1;36m.0\u001b[0m, \u001b[33mevent\u001b[0m=\u001b[32m'SBD'\u001b[0m, \u001b[33mequipment\u001b[0m=\u001b[32m'Raw'\u001b[0m, \u001b[33msex\u001b[0m=\u001b[32m'F'\u001b[0m, \u001b[33mdivision\u001b[0m=\u001b[32m'Open'\u001b[0m, \u001b[33msquats\u001b[0m=\u001b[1;35mLift\u001b[0m\u001b[1m(\u001b[0m\u001b[33mlift1\u001b[0m=\u001b[1;36m95\u001b[0m\u001b[1;36m.0\u001b[0m, \u001b[33mlift2\u001b[0m=\u001b[1;36m100\u001b[0m\u001b[1;36m.0\u001b[0m, \u001b[33mlift3\u001b[0m=\u001b[1;36m105\u001b[0m\u001b[1;36m.0\u001b[0m, \u001b[33mlift4\u001b[0m=\u001b[3;35mNone\u001b[0m\u001b[1m)\u001b[0m, \u001b[33mbenches\u001b[0m=\u001b[1;35mLift\u001b[0m\u001b[1m(\u001b[0m\u001b[33mlift1\u001b[0m=\u001b[1;36m45\u001b[0m\u001b[1;36m.0\u001b[0m, \u001b[33mlift2\u001b[0m=\u001b[1;36m50\u001b[0m\u001b[1;36m.0\u001b[0m, \u001b[33mlift3\u001b[0m=\u001b[1;36m-52.5\u001b[0m, \u001b[33mlift4\u001b[0m=\u001b[3;35mNone\u001b[0m\u001b[1m)\u001b[0m, \u001b[33mdeadlifts\u001b[0m=\u001b[1;35mLift\u001b[0m\u001b[1m(\u001b[0m\u001b[33mlift1\u001b[0m=\u001b[3;35mNone\u001b[0m, \u001b[33mlift2\u001b[0m=\u001b[3;35mNone\u001b[0m, \u001b[33mlift3\u001b[0m=\u001b[3;35mNone\u001b[0m, \u001b[33mlift4\u001b[0m=\u001b[3;35mNone\u001b[0m\u001b[1m)\u001b[0m, \u001b[33mbirth_date\u001b[0m=\u001b[3;35mNone\u001b[0m\u001b[1m)\u001b[0m\n",
       "\u001b[1m]\u001b[0m\n"
      ]
     },
     "metadata": {},
     "output_type": "display_data"
    }
   ],
   "source": [
    "valid_events = 0\n",
    "athletes = []\n",
    "for folder in folders:\n",
    "    for file in folder.iterdir():\n",
    "        if file.name == \"entries.csv\" and good_header(file):\n",
    "            # read file into model\n",
    "            valid_events += 1\n",
    "            with open(file.as_posix(), \"r\") as f:\n",
    "                reader = csv.DictReader(f)\n",
    "                for row in reader:\n",
    "                    athlete = models.Athlete.New(row)\n",
    "                    athletes.append(athlete)\n",
    "\n",
    "print(f\"Total athletes collected: {len(athletes)} across {valid_events} valid events out of ({round((valid_events / len(folders)) * 100, 2)}%).\")\n",
    "athletes[:2]"
   ]
  },
  {
   "cell_type": "code",
   "execution_count": 13,
   "metadata": {},
   "outputs": [
    {
     "data": {
      "text/html": [
       "<pre style=\"white-space:pre;overflow-x:auto;line-height:normal;font-family:Menlo,'DejaVu Sans Mono',consolas,'Courier New',monospace\"><span style=\"color: #008080; text-decoration-color: #008080; font-weight: bold\">297.5</span>\n",
       "</pre>\n"
      ],
      "text/plain": [
       "\u001b[1;36m297.5\u001b[0m\n"
      ]
     },
     "metadata": {},
     "output_type": "display_data"
    }
   ],
   "source": [
    "max((athlete.best_bench for athlete in athletes if athlete.best_bench), key=lambda x: x*2)\n"
   ]
  },
  {
   "cell_type": "code",
   "execution_count": 14,
   "metadata": {},
   "outputs": [
    {
     "data": {
      "text/html": [
       "<pre style=\"white-space:pre;overflow-x:auto;line-height:normal;font-family:Menlo,'DejaVu Sans Mono',consolas,'Courier New',monospace\">\n",
       "<span style=\"font-weight: bold\">[</span>\n",
       "    <span style=\"color: #800080; text-decoration-color: #800080; font-weight: bold\">Athlete</span><span style=\"font-weight: bold\">(</span><span style=\"color: #808000; text-decoration-color: #808000\">name</span>=<span style=\"color: #008000; text-decoration-color: #008000\">'Kyle Davis'</span>, <span style=\"color: #808000; text-decoration-color: #808000\">place</span>=<span style=\"color: #008000; text-decoration-color: #008000\">'1'</span>, <span style=\"color: #808000; text-decoration-color: #808000\">state</span>=<span style=\"color: #008000; text-decoration-color: #008000\">'AZ'</span>, <span style=\"color: #808000; text-decoration-color: #808000\">weight_class</span>=<span style=\"color: #008080; text-decoration-color: #008080; font-weight: bold\">125.0</span>, <span style=\"color: #808000; text-decoration-color: #808000\">body_weight</span>=<span style=\"color: #008080; text-decoration-color: #008080; font-weight: bold\">119.5</span>, <span style=\"color: #808000; text-decoration-color: #808000\">age</span>=<span style=\"color: #008080; text-decoration-color: #008080; font-weight: bold\">35</span>, <span style=\"color: #808000; text-decoration-color: #808000\">best_squat</span>=<span style=\"color: #008080; text-decoration-color: #008080; font-weight: bold\">285.0</span>, <span style=\"color: #808000; text-decoration-color: #808000\">best_bench</span>=<span style=\"color: #008080; text-decoration-color: #008080; font-weight: bold\">297.5</span>, <span style=\"color: #808000; text-decoration-color: #808000\">best_deadlift</span>=<span style=\"color: #008080; text-decoration-color: #008080; font-weight: bold\">345.0</span>, <span style=\"color: #808000; text-decoration-color: #808000\">total</span>=<span style=\"color: #008080; text-decoration-color: #008080; font-weight: bold\">927.5</span>, <span style=\"color: #808000; text-decoration-color: #808000\">event</span>=<span style=\"color: #008000; text-decoration-color: #008000\">'SBD'</span>, <span style=\"color: #808000; text-decoration-color: #808000\">equipment</span>=<span style=\"color: #008000; text-decoration-color: #008000\">'Single-ply'</span>, <span style=\"color: #808000; text-decoration-color: #808000\">sex</span>=<span style=\"color: #008000; text-decoration-color: #008000\">'M'</span>, <span style=\"color: #808000; text-decoration-color: #808000\">division</span>=<span style=\"color: #008000; text-decoration-color: #008000\">'Open'</span>, <span style=\"color: #808000; text-decoration-color: #808000\">squats</span>=<span style=\"color: #800080; text-decoration-color: #800080; font-weight: bold\">Lift</span><span style=\"font-weight: bold\">(</span><span style=\"color: #808000; text-decoration-color: #808000\">lift1</span>=<span style=\"color: #008080; text-decoration-color: #008080; font-weight: bold\">-285.0</span>, <span style=\"color: #808000; text-decoration-color: #808000\">lift2</span>=<span style=\"color: #008080; text-decoration-color: #008080; font-weight: bold\">285.0</span>, <span style=\"color: #808000; text-decoration-color: #808000\">lift3</span>=<span style=\"color: #008080; text-decoration-color: #008080; font-weight: bold\">-305.0</span>, <span style=\"color: #808000; text-decoration-color: #808000\">lift4</span>=<span style=\"color: #800080; text-decoration-color: #800080; font-style: italic\">None</span><span style=\"font-weight: bold\">)</span>, <span style=\"color: #808000; text-decoration-color: #808000\">benches</span>=<span style=\"color: #800080; text-decoration-color: #800080; font-weight: bold\">Lift</span><span style=\"font-weight: bold\">(</span><span style=\"color: #808000; text-decoration-color: #808000\">lift1</span>=<span style=\"color: #008080; text-decoration-color: #008080; font-weight: bold\">297.5</span>, <span style=\"color: #808000; text-decoration-color: #808000\">lift2</span>=<span style=\"color: #008080; text-decoration-color: #008080; font-weight: bold\">-307.5</span>, <span style=\"color: #808000; text-decoration-color: #808000\">lift3</span>=<span style=\"color: #800080; text-decoration-color: #800080; font-style: italic\">None</span>, <span style=\"color: #808000; text-decoration-color: #808000\">lift4</span>=<span style=\"color: #800080; text-decoration-color: #800080; font-style: italic\">None</span><span style=\"font-weight: bold\">)</span>, <span style=\"color: #808000; text-decoration-color: #808000\">deadlifts</span>=<span style=\"color: #800080; text-decoration-color: #800080; font-weight: bold\">Lift</span><span style=\"font-weight: bold\">(</span><span style=\"color: #808000; text-decoration-color: #808000\">lift1</span>=<span style=\"color: #800080; text-decoration-color: #800080; font-style: italic\">None</span>, <span style=\"color: #808000; text-decoration-color: #808000\">lift2</span>=<span style=\"color: #800080; text-decoration-color: #800080; font-style: italic\">None</span>, <span style=\"color: #808000; text-decoration-color: #808000\">lift3</span>=<span style=\"color: #800080; text-decoration-color: #800080; font-style: italic\">None</span>, <span style=\"color: #808000; text-decoration-color: #808000\">lift4</span>=<span style=\"color: #800080; text-decoration-color: #800080; font-style: italic\">None</span><span style=\"font-weight: bold\">)</span>, <span style=\"color: #808000; text-decoration-color: #808000\">birth_date</span>=<span style=\"color: #800080; text-decoration-color: #800080; font-style: italic\">None</span><span style=\"font-weight: bold\">)</span>,\n",
       "    <span style=\"color: #800080; text-decoration-color: #800080; font-weight: bold\">Athlete</span><span style=\"font-weight: bold\">(</span><span style=\"color: #808000; text-decoration-color: #808000\">name</span>=<span style=\"color: #008000; text-decoration-color: #008000\">'Trey Godbold'</span>, <span style=\"color: #808000; text-decoration-color: #808000\">place</span>=<span style=\"color: #008000; text-decoration-color: #008000\">'DQ'</span>, <span style=\"color: #808000; text-decoration-color: #808000\">state</span>=<span style=\"color: #008000; text-decoration-color: #008000\">'AL'</span>, <span style=\"color: #808000; text-decoration-color: #808000\">weight_class</span>=<span style=\"color: #008080; text-decoration-color: #008080; font-weight: bold\">125.0</span>, <span style=\"color: #808000; text-decoration-color: #808000\">body_weight</span>=<span style=\"color: #008080; text-decoration-color: #008080; font-weight: bold\">124.1</span>, <span style=\"color: #808000; text-decoration-color: #808000\">age</span>=<span style=\"color: #008080; text-decoration-color: #008080; font-weight: bold\">30</span>, <span style=\"color: #808000; text-decoration-color: #808000\">best_squat</span>=<span style=\"color: #008080; text-decoration-color: #008080; font-weight: bold\">295.0</span>, <span style=\"color: #808000; text-decoration-color: #808000\">best_bench</span>=<span style=\"color: #008080; text-decoration-color: #008080; font-weight: bold\">285.0</span>, <span style=\"color: #808000; text-decoration-color: #808000\">best_deadlift</span>=<span style=\"color: #800080; text-decoration-color: #800080; font-style: italic\">None</span>, <span style=\"color: #808000; text-decoration-color: #808000\">total</span>=<span style=\"color: #800080; text-decoration-color: #800080; font-style: italic\">None</span>, <span style=\"color: #808000; text-decoration-color: #808000\">event</span>=<span style=\"color: #008000; text-decoration-color: #008000\">'SBD'</span>, <span style=\"color: #808000; text-decoration-color: #808000\">equipment</span>=<span style=\"color: #008000; text-decoration-color: #008000\">'Raw'</span>, <span style=\"color: #808000; text-decoration-color: #808000\">sex</span>=<span style=\"color: #008000; text-decoration-color: #008000\">'M'</span>, <span style=\"color: #808000; text-decoration-color: #808000\">division</span>=<span style=\"color: #008000; text-decoration-color: #008000\">'Open'</span>, <span style=\"color: #808000; text-decoration-color: #808000\">squats</span>=<span style=\"color: #800080; text-decoration-color: #800080; font-weight: bold\">Lift</span><span style=\"font-weight: bold\">(</span><span style=\"color: #808000; text-decoration-color: #808000\">lift1</span>=<span style=\"color: #008080; text-decoration-color: #008080; font-weight: bold\">280.0</span>, <span style=\"color: #808000; text-decoration-color: #808000\">lift2</span>=<span style=\"color: #008080; text-decoration-color: #008080; font-weight: bold\">290.0</span>, <span style=\"color: #808000; text-decoration-color: #808000\">lift3</span>=<span style=\"color: #008080; text-decoration-color: #008080; font-weight: bold\">295.0</span>, <span style=\"color: #808000; text-decoration-color: #808000\">lift4</span>=<span style=\"color: #800080; text-decoration-color: #800080; font-style: italic\">None</span><span style=\"font-weight: bold\">)</span>, <span style=\"color: #808000; text-decoration-color: #808000\">benches</span>=<span style=\"color: #800080; text-decoration-color: #800080; font-weight: bold\">Lift</span><span style=\"font-weight: bold\">(</span><span style=\"color: #808000; text-decoration-color: #808000\">lift1</span>=<span style=\"color: #008080; text-decoration-color: #008080; font-weight: bold\">277.5</span>, <span style=\"color: #808000; text-decoration-color: #808000\">lift2</span>=<span style=\"color: #008080; text-decoration-color: #008080; font-weight: bold\">285.0</span>, <span style=\"color: #808000; text-decoration-color: #808000\">lift3</span>=<span style=\"color: #008080; text-decoration-color: #008080; font-weight: bold\">-288.0</span>, <span style=\"color: #808000; text-decoration-color: #808000\">lift4</span>=<span style=\"color: #800080; text-decoration-color: #800080; font-style: italic\">None</span><span style=\"font-weight: bold\">)</span>, <span style=\"color: #808000; text-decoration-color: #808000\">deadlifts</span>=<span style=\"color: #800080; text-decoration-color: #800080; font-weight: bold\">Lift</span><span style=\"font-weight: bold\">(</span><span style=\"color: #808000; text-decoration-color: #808000\">lift1</span>=<span style=\"color: #800080; text-decoration-color: #800080; font-style: italic\">None</span>, <span style=\"color: #808000; text-decoration-color: #808000\">lift2</span>=<span style=\"color: #800080; text-decoration-color: #800080; font-style: italic\">None</span>, <span style=\"color: #808000; text-decoration-color: #808000\">lift3</span>=<span style=\"color: #800080; text-decoration-color: #800080; font-style: italic\">None</span>, <span style=\"color: #808000; text-decoration-color: #808000\">lift4</span>=<span style=\"color: #800080; text-decoration-color: #800080; font-style: italic\">None</span><span style=\"font-weight: bold\">)</span>, <span style=\"color: #808000; text-decoration-color: #808000\">birth_date</span>=<span style=\"color: #800080; text-decoration-color: #800080; font-style: italic\">None</span><span style=\"font-weight: bold\">)</span>\n",
       "<span style=\"font-weight: bold\">]</span>\n",
       "</pre>\n"
      ],
      "text/plain": [
       "\n",
       "\u001b[1m[\u001b[0m\n",
       "    \u001b[1;35mAthlete\u001b[0m\u001b[1m(\u001b[0m\u001b[33mname\u001b[0m=\u001b[32m'Kyle Davis'\u001b[0m, \u001b[33mplace\u001b[0m=\u001b[32m'1'\u001b[0m, \u001b[33mstate\u001b[0m=\u001b[32m'AZ'\u001b[0m, \u001b[33mweight_class\u001b[0m=\u001b[1;36m125\u001b[0m\u001b[1;36m.0\u001b[0m, \u001b[33mbody_weight\u001b[0m=\u001b[1;36m119\u001b[0m\u001b[1;36m.5\u001b[0m, \u001b[33mage\u001b[0m=\u001b[1;36m35\u001b[0m, \u001b[33mbest_squat\u001b[0m=\u001b[1;36m285\u001b[0m\u001b[1;36m.0\u001b[0m, \u001b[33mbest_bench\u001b[0m=\u001b[1;36m297\u001b[0m\u001b[1;36m.5\u001b[0m, \u001b[33mbest_deadlift\u001b[0m=\u001b[1;36m345\u001b[0m\u001b[1;36m.0\u001b[0m, \u001b[33mtotal\u001b[0m=\u001b[1;36m927\u001b[0m\u001b[1;36m.5\u001b[0m, \u001b[33mevent\u001b[0m=\u001b[32m'SBD'\u001b[0m, \u001b[33mequipment\u001b[0m=\u001b[32m'Single-ply'\u001b[0m, \u001b[33msex\u001b[0m=\u001b[32m'M'\u001b[0m, \u001b[33mdivision\u001b[0m=\u001b[32m'Open'\u001b[0m, \u001b[33msquats\u001b[0m=\u001b[1;35mLift\u001b[0m\u001b[1m(\u001b[0m\u001b[33mlift1\u001b[0m=\u001b[1;36m-285.0\u001b[0m, \u001b[33mlift2\u001b[0m=\u001b[1;36m285\u001b[0m\u001b[1;36m.0\u001b[0m, \u001b[33mlift3\u001b[0m=\u001b[1;36m-305.0\u001b[0m, \u001b[33mlift4\u001b[0m=\u001b[3;35mNone\u001b[0m\u001b[1m)\u001b[0m, \u001b[33mbenches\u001b[0m=\u001b[1;35mLift\u001b[0m\u001b[1m(\u001b[0m\u001b[33mlift1\u001b[0m=\u001b[1;36m297\u001b[0m\u001b[1;36m.5\u001b[0m, \u001b[33mlift2\u001b[0m=\u001b[1;36m-307.5\u001b[0m, \u001b[33mlift3\u001b[0m=\u001b[3;35mNone\u001b[0m, \u001b[33mlift4\u001b[0m=\u001b[3;35mNone\u001b[0m\u001b[1m)\u001b[0m, \u001b[33mdeadlifts\u001b[0m=\u001b[1;35mLift\u001b[0m\u001b[1m(\u001b[0m\u001b[33mlift1\u001b[0m=\u001b[3;35mNone\u001b[0m, \u001b[33mlift2\u001b[0m=\u001b[3;35mNone\u001b[0m, \u001b[33mlift3\u001b[0m=\u001b[3;35mNone\u001b[0m, \u001b[33mlift4\u001b[0m=\u001b[3;35mNone\u001b[0m\u001b[1m)\u001b[0m, \u001b[33mbirth_date\u001b[0m=\u001b[3;35mNone\u001b[0m\u001b[1m)\u001b[0m,\n",
       "    \u001b[1;35mAthlete\u001b[0m\u001b[1m(\u001b[0m\u001b[33mname\u001b[0m=\u001b[32m'Trey Godbold'\u001b[0m, \u001b[33mplace\u001b[0m=\u001b[32m'DQ'\u001b[0m, \u001b[33mstate\u001b[0m=\u001b[32m'AL'\u001b[0m, \u001b[33mweight_class\u001b[0m=\u001b[1;36m125\u001b[0m\u001b[1;36m.0\u001b[0m, \u001b[33mbody_weight\u001b[0m=\u001b[1;36m124\u001b[0m\u001b[1;36m.1\u001b[0m, \u001b[33mage\u001b[0m=\u001b[1;36m30\u001b[0m, \u001b[33mbest_squat\u001b[0m=\u001b[1;36m295\u001b[0m\u001b[1;36m.0\u001b[0m, \u001b[33mbest_bench\u001b[0m=\u001b[1;36m285\u001b[0m\u001b[1;36m.0\u001b[0m, \u001b[33mbest_deadlift\u001b[0m=\u001b[3;35mNone\u001b[0m, \u001b[33mtotal\u001b[0m=\u001b[3;35mNone\u001b[0m, \u001b[33mevent\u001b[0m=\u001b[32m'SBD'\u001b[0m, \u001b[33mequipment\u001b[0m=\u001b[32m'Raw'\u001b[0m, \u001b[33msex\u001b[0m=\u001b[32m'M'\u001b[0m, \u001b[33mdivision\u001b[0m=\u001b[32m'Open'\u001b[0m, \u001b[33msquats\u001b[0m=\u001b[1;35mLift\u001b[0m\u001b[1m(\u001b[0m\u001b[33mlift1\u001b[0m=\u001b[1;36m280\u001b[0m\u001b[1;36m.0\u001b[0m, \u001b[33mlift2\u001b[0m=\u001b[1;36m290\u001b[0m\u001b[1;36m.0\u001b[0m, \u001b[33mlift3\u001b[0m=\u001b[1;36m295\u001b[0m\u001b[1;36m.0\u001b[0m, \u001b[33mlift4\u001b[0m=\u001b[3;35mNone\u001b[0m\u001b[1m)\u001b[0m, \u001b[33mbenches\u001b[0m=\u001b[1;35mLift\u001b[0m\u001b[1m(\u001b[0m\u001b[33mlift1\u001b[0m=\u001b[1;36m277\u001b[0m\u001b[1;36m.5\u001b[0m, \u001b[33mlift2\u001b[0m=\u001b[1;36m285\u001b[0m\u001b[1;36m.0\u001b[0m, \u001b[33mlift3\u001b[0m=\u001b[1;36m-288.0\u001b[0m, \u001b[33mlift4\u001b[0m=\u001b[3;35mNone\u001b[0m\u001b[1m)\u001b[0m, \u001b[33mdeadlifts\u001b[0m=\u001b[1;35mLift\u001b[0m\u001b[1m(\u001b[0m\u001b[33mlift1\u001b[0m=\u001b[3;35mNone\u001b[0m, \u001b[33mlift2\u001b[0m=\u001b[3;35mNone\u001b[0m, \u001b[33mlift3\u001b[0m=\u001b[3;35mNone\u001b[0m, \u001b[33mlift4\u001b[0m=\u001b[3;35mNone\u001b[0m\u001b[1m)\u001b[0m, \u001b[33mbirth_date\u001b[0m=\u001b[3;35mNone\u001b[0m\u001b[1m)\u001b[0m\n",
       "\u001b[1m]\u001b[0m\n"
      ]
     },
     "metadata": {},
     "output_type": "display_data"
    }
   ],
   "source": [
    "sorted((a for a in athletes if a.best_bench), key=lambda x: x.best_bench, reverse=True)[:2]"
   ]
  },
  {
   "cell_type": "code",
   "execution_count": 15,
   "metadata": {},
   "outputs": [],
   "source": [
    "final = [a for a in athletes if a.weight_class == 90.0]\n",
    "len(final)\n",
    "\n",
    "lst = models.AthleteList(athletes=final)\n",
    "\n",
    "with open(\"90kilos_athletes.json\", \"w\") as f:\n",
    "    f.write(lst.json())"
   ]
  },
  {
   "cell_type": "code",
   "execution_count": 7,
   "metadata": {},
   "outputs": [
    {
     "data": {
      "text/html": [
       "<pre style=\"white-space:pre;overflow-x:auto;line-height:normal;font-family:Menlo,'DejaVu Sans Mono',consolas,'Courier New',monospace\"><span style=\"font-weight: bold\">[</span>\n",
       "    <span style=\"color: #008000; text-decoration-color: #008000\">'../data/1069/meet.csv'</span>,\n",
       "    <span style=\"color: #008000; text-decoration-color: #008000\">'../data/0987/meet.csv'</span>,\n",
       "    <span style=\"color: #008000; text-decoration-color: #008000\">'../data/1855/meet.csv'</span>,\n",
       "    <span style=\"color: #008000; text-decoration-color: #008000\">'../data/0389/meet.csv'</span>\n",
       "<span style=\"font-weight: bold\">]</span>\n",
       "</pre>\n"
      ],
      "text/plain": [
       "\u001b[1m[\u001b[0m\n",
       "    \u001b[32m'../data/1069/meet.csv'\u001b[0m,\n",
       "    \u001b[32m'../data/0987/meet.csv'\u001b[0m,\n",
       "    \u001b[32m'../data/1855/meet.csv'\u001b[0m,\n",
       "    \u001b[32m'../data/0389/meet.csv'\u001b[0m\n",
       "\u001b[1m]\u001b[0m\n"
      ]
     },
     "metadata": {},
     "output_type": "display_data"
    }
   ],
   "source": [
    "# practicing scanning through directories to access target files\n",
    "target_files = \"meet.csv\"\n",
    "folders = [x for x in Path('../data').iterdir() if x.is_dir()]\n",
    "\n",
    "file_paths = []\n",
    "for folder in folders:\n",
    "    for datafile in folder.iterdir():\n",
    "        if datafile.name == target_files:\n",
    "            file_paths.append(datafile.as_posix())\n",
    "\n",
    "print(file_paths[:4])"
   ]
  },
  {
   "cell_type": "code",
   "execution_count": 8,
   "metadata": {},
   "outputs": [
    {
     "data": {
      "text/html": [
       "<pre style=\"white-space:pre;overflow-x:auto;line-height:normal;font-family:Menlo,'DejaVu Sans Mono',consolas,'Courier New',monospace\">\n",
       "<span style=\"font-weight: bold\">[</span>\n",
       "    <span style=\"color: #800080; text-decoration-color: #800080; font-weight: bold\">Meet</span><span style=\"font-weight: bold\">(</span><span style=\"color: #808000; text-decoration-color: #808000\">federation</span>=<span style=\"color: #008000; text-decoration-color: #008000\">'USPA'</span>, <span style=\"color: #808000; text-decoration-color: #808000\">date_</span>=<span style=\"color: #800080; text-decoration-color: #800080; font-weight: bold\">datetime</span><span style=\"color: #800080; text-decoration-color: #800080; font-weight: bold\">.datetime</span><span style=\"font-weight: bold\">(</span><span style=\"color: #008080; text-decoration-color: #008080; font-weight: bold\">2018</span>, <span style=\"color: #008080; text-decoration-color: #008080; font-weight: bold\">3</span>, <span style=\"color: #008080; text-decoration-color: #008080; font-weight: bold\">10</span>, <span style=\"color: #008080; text-decoration-color: #008080; font-weight: bold\">0</span>, <span style=\"color: #008080; text-decoration-color: #008080; font-weight: bold\">0</span><span style=\"font-weight: bold\">)</span>, <span style=\"color: #808000; text-decoration-color: #808000\">country</span>=<span style=\"color: #008000; text-decoration-color: #008000\">'USA'</span>, <span style=\"color: #808000; text-decoration-color: #808000\">state</span>=<span style=\"color: #008000; text-decoration-color: #008000\">'IL'</span>, <span style=\"color: #808000; text-decoration-color: #808000\">town</span>=<span style=\"color: #008000; text-decoration-color: #008000\">'Chicago'</span>, <span style=\"color: #808000; text-decoration-color: #808000\">name</span>=<span style=\"color: #008000; text-decoration-color: #008000\">'Throwdown at the Compound'</span><span style=\"font-weight: bold\">)</span>,\n",
       "    <span style=\"color: #800080; text-decoration-color: #800080; font-weight: bold\">Meet</span><span style=\"font-weight: bold\">(</span><span style=\"color: #808000; text-decoration-color: #808000\">federation</span>=<span style=\"color: #008000; text-decoration-color: #008000\">'USPA'</span>, <span style=\"color: #808000; text-decoration-color: #808000\">date_</span>=<span style=\"color: #800080; text-decoration-color: #800080; font-weight: bold\">datetime</span><span style=\"color: #800080; text-decoration-color: #800080; font-weight: bold\">.datetime</span><span style=\"font-weight: bold\">(</span><span style=\"color: #008080; text-decoration-color: #008080; font-weight: bold\">2017</span>, <span style=\"color: #008080; text-decoration-color: #008080; font-weight: bold\">11</span>, <span style=\"color: #008080; text-decoration-color: #008080; font-weight: bold\">18</span>, <span style=\"color: #008080; text-decoration-color: #008080; font-weight: bold\">0</span>, <span style=\"color: #008080; text-decoration-color: #008080; font-weight: bold\">0</span><span style=\"font-weight: bold\">)</span>, <span style=\"color: #808000; text-decoration-color: #808000\">country</span>=<span style=\"color: #008000; text-decoration-color: #008000\">'USA'</span>, <span style=\"color: #808000; text-decoration-color: #808000\">state</span>=<span style=\"color: #008000; text-decoration-color: #008000\">'CA'</span>, <span style=\"color: #808000; text-decoration-color: #808000\">town</span>=<span style=\"color: #008000; text-decoration-color: #008000\">'Cotati'</span>, <span style=\"color: #808000; text-decoration-color: #808000\">name</span>=<span style=\"color: #008000; text-decoration-color: #008000\">'Sonoma County Open'</span><span style=\"font-weight: bold\">)</span>\n",
       "<span style=\"font-weight: bold\">]</span>\n",
       "</pre>\n"
      ],
      "text/plain": [
       "\n",
       "\u001b[1m[\u001b[0m\n",
       "    \u001b[1;35mMeet\u001b[0m\u001b[1m(\u001b[0m\u001b[33mfederation\u001b[0m=\u001b[32m'USPA'\u001b[0m, \u001b[33mdate_\u001b[0m=\u001b[1;35mdatetime\u001b[0m\u001b[1;35m.datetime\u001b[0m\u001b[1m(\u001b[0m\u001b[1;36m2018\u001b[0m, \u001b[1;36m3\u001b[0m, \u001b[1;36m10\u001b[0m, \u001b[1;36m0\u001b[0m, \u001b[1;36m0\u001b[0m\u001b[1m)\u001b[0m, \u001b[33mcountry\u001b[0m=\u001b[32m'USA'\u001b[0m, \u001b[33mstate\u001b[0m=\u001b[32m'IL'\u001b[0m, \u001b[33mtown\u001b[0m=\u001b[32m'Chicago'\u001b[0m, \u001b[33mname\u001b[0m=\u001b[32m'Throwdown at the Compound'\u001b[0m\u001b[1m)\u001b[0m,\n",
       "    \u001b[1;35mMeet\u001b[0m\u001b[1m(\u001b[0m\u001b[33mfederation\u001b[0m=\u001b[32m'USPA'\u001b[0m, \u001b[33mdate_\u001b[0m=\u001b[1;35mdatetime\u001b[0m\u001b[1;35m.datetime\u001b[0m\u001b[1m(\u001b[0m\u001b[1;36m2017\u001b[0m, \u001b[1;36m11\u001b[0m, \u001b[1;36m18\u001b[0m, \u001b[1;36m0\u001b[0m, \u001b[1;36m0\u001b[0m\u001b[1m)\u001b[0m, \u001b[33mcountry\u001b[0m=\u001b[32m'USA'\u001b[0m, \u001b[33mstate\u001b[0m=\u001b[32m'CA'\u001b[0m, \u001b[33mtown\u001b[0m=\u001b[32m'Cotati'\u001b[0m, \u001b[33mname\u001b[0m=\u001b[32m'Sonoma County Open'\u001b[0m\u001b[1m)\u001b[0m\n",
       "\u001b[1m]\u001b[0m\n"
      ]
     },
     "metadata": {},
     "output_type": "display_data"
    }
   ],
   "source": [
    "meets = []\n",
    "for fpath in file_paths:\n",
    "    with open(fpath, mode=\"r\") as f:\n",
    "        reader = csv.DictReader(f)\n",
    "        for event in reader:\n",
    "            meet = models.Meet.New(event)\n",
    "            meets.append(meet)\n",
    "\n",
    "meets[:2]"
   ]
  },
  {
   "cell_type": "code",
   "execution_count": 9,
   "metadata": {},
   "outputs": [
    {
     "data": {
      "text/html": [
       "<pre style=\"white-space:pre;overflow-x:auto;line-height:normal;font-family:Menlo,'DejaVu Sans Mono',consolas,'Courier New',monospace\"><span style=\"color: #008080; text-decoration-color: #008080; font-weight: bold\">2344</span>\n",
       "</pre>\n"
      ],
      "text/plain": [
       "\u001b[1;36m2344\u001b[0m\n"
      ]
     },
     "metadata": {},
     "output_type": "display_data"
    }
   ],
   "source": [
    "len(meets)"
   ]
  },
  {
   "cell_type": "code",
   "execution_count": null,
   "metadata": {},
   "outputs": [],
   "source": []
  },
  {
   "cell_type": "code",
   "execution_count": null,
   "metadata": {},
   "outputs": [],
   "source": []
  },
  {
   "cell_type": "code",
   "execution_count": null,
   "metadata": {},
   "outputs": [],
   "source": []
  },
  {
   "cell_type": "code",
   "execution_count": null,
   "metadata": {},
   "outputs": [],
   "source": []
  },
  {
   "cell_type": "code",
   "execution_count": null,
   "metadata": {},
   "outputs": [],
   "source": []
  },
  {
   "cell_type": "code",
   "execution_count": null,
   "metadata": {},
   "outputs": [],
   "source": []
  }
 ],
 "metadata": {
  "interpreter": {
   "hash": "ee2965926d8b045c7609b23665c7bb468ca757801cb136baf1fe79c4c385ef47"
  },
  "kernelspec": {
   "display_name": "Python 3.10.2 ('.venv': poetry)",
   "language": "python",
   "name": "python3"
  },
  "language_info": {
   "codemirror_mode": {
    "name": "ipython",
    "version": 3
   },
   "file_extension": ".py",
   "mimetype": "text/x-python",
   "name": "python",
   "nbconvert_exporter": "python",
   "pygments_lexer": "ipython3",
   "version": "3.9.7"
  },
  "orig_nbformat": 4
 },
 "nbformat": 4,
 "nbformat_minor": 2
}
